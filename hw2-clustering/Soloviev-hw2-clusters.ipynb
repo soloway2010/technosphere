{
 "cells": [
  {
   "cell_type": "markdown",
   "metadata": {},
   "source": [
    "# Алгоритмы интеллектуальной обработки больших объемов данных\n",
    "## Домашнее задание №2 - Алгоритмы кластеризации\n"
   ]
  },
  {
   "cell_type": "markdown",
   "metadata": {},
   "source": [
    "###### <hr\\>\n",
    "**Общая информация**\n",
    "\n",
    "**Срок сдачи:** 23 октября 2017, 06:00 <br\\>\n",
    "**Штраф за опоздание:** -2 балла после 06:00 23 октября, -4 балла после 06:00 30 октября, -6 баллов после 06:00 6 ноября\n",
    "\n",
    "При отправлении ДЗ указывайте фамилию в названии файла\n",
    "Присылать ДЗ необходимо в виде ссылки на свой github репозиторий в slack @alkhamush Необходимо в slack создать таск в приватный чат:\n",
    "/todo Фамилия Имя ссылка на гитхаб @alkhamush\n",
    "Пример:\n",
    "/todo Ксения Стройкова https://github.com/stroykova/spheremailru/stroykova_hw1.ipynb @alkhamush\n",
    "\n",
    "Используйте данный Ipython Notebook при оформлении домашнего задания.\n",
    "<hr\\>"
   ]
  },
  {
   "cell_type": "markdown",
   "metadata": {},
   "source": [
    "###### Задание 1 (4 балла)\n",
    "Реализовать алгоритм кластеризации, который относится к вашему варианту. Проверить работоспособность алгоритма на \"Iris\". Сравните свой алгоритм кластеризации с алгоритмом из scikit-learn по времени выполнения, использую timeit. Ваша реализация не должна работать сильно дольше, а в идеале должна быть даже немного быстрее.\n",
    "\n",
    "###### Задание 2 (2 балла)\n",
    "Выбрать, имплементировать и использовать критерий качества\n",
    "\n",
    "###### Задание 3 (3балла)\n",
    "Применить алгоритм кластеризации к данным по странам.   \n",
    "Подход следующий: фиксируем год, для каждой страны берём индикаторы по зафиксированному году, кластеризуем по индикаторам.   \n",
    "Разбиение должно быть объяснимым, в противном случае, скорее всего нужно лучше настроить параметры кластеризации.   \n",
    "Данные нужно скачать тут https://data.worldbank.org/data-catalog/world-development-indicators.   \n",
    "Также необходимо показать, какие страны попали в общий кластер.\n",
    "изуализировать результат с помощью T-SNE. Внимание! На полном объеме данных данный алгоритм может работать существенное время.\n",
    "\n",
    "###### Задание 4 (1 балл)\n",
    "Опишите в выводе почему и какие страны попали в общий кластер."
   ]
  },
  {
   "cell_type": "markdown",
   "metadata": {},
   "source": [
    "Основная задача этого задания - реализация одного из алгоритмов кластеризации. Кроме того, мы научимся подбирать параметры алгоритма, визуализируем результат кластеризации и попытаемся проанализировать природу полученных кластеров."
   ]
  },
  {
   "cell_type": "code",
   "execution_count": 1,
   "metadata": {},
   "outputs": [
    {
     "name": "stderr",
     "output_type": "stream",
     "text": [
      "/home/soloway2010/anaconda2/lib/python2.7/site-packages/matplotlib/font_manager.py:280: UserWarning: Matplotlib is building the font cache using fc-list. This may take a moment.\n",
      "  'Matplotlib is building the font cache using fc-list. '\n"
     ]
    },
    {
     "name": "stdout",
     "output_type": "stream",
     "text": [
      "Populating the interactive namespace from numpy and matplotlib\n"
     ]
    }
   ],
   "source": [
    "import pandas as pd\n",
    "import pylab as pl\n",
    "import numpy as np\n",
    "import scipy.spatial as ss\n",
    "import sklearn.cluster as sc\n",
    "import sklearn.manifold as sm\n",
    "import sklearn.datasets as ds\n",
    "import sklearn.metrics as smt\n",
    "import itertools as it\n",
    "\n",
    "import matplotlib.pyplot as plt\n",
    "#import mpl_toolkits.basemap as bm\n",
    "\n",
    "%matplotlib inline\n",
    "\n",
    "plt.style.use('ggplot')\n",
    "plt.rcParams['figure.figsize'] = (12,5)\n",
    "\n",
    "# Plotting config\n",
    "%pylab inline"
   ]
  },
  {
   "cell_type": "markdown",
   "metadata": {},
   "source": [
    "## Реализация алгоритма"
   ]
  },
  {
   "cell_type": "markdown",
   "metadata": {},
   "source": [
    "Алгоритм кластеризации, который необходимо реализовать, выбирается на основании Вашего порядкового номера в списке группы."
   ]
  },
  {
   "cell_type": "markdown",
   "metadata": {},
   "source": [
    "1. Авилова Екатерина\n",
    "2. Адаменко Павел\n",
    "3. Акиньщиков Алексей\n",
    "4. Афанасьева Анастасия\n",
    "5. Балес Александр\n",
    "6. Беляев Владимир\n",
    "7. Беспалова Анастасия\n",
    "8. Богомолов Эмиль\n",
    "9. Боднарюк Василий\n",
    "10. Бучкин Александр\n",
    "11. Валинуров Денис\n",
    "12. Волков Глеб\n",
    "13. Голенков Кирилл\n",
    "14. Горбушин Михаил\n",
    "15. Димов Илья\n",
    "16. Докшина Елизавета\n",
    "17. Дорожинский Владислав\n",
    "18. Жирнов Михаил\n",
    "19. Жолковский Евгений\n",
    "20. Зайдель Петр\n",
    "21. Зимнюков Максим\n",
    "22. Иванов Илья\n",
    "23. Кашипов Артем\n",
    "24. Комов Евгений\n",
    "25. Кошман Дима\n",
    "26. Кузнецова Екатерина\n",
    "27. Кулагин Алексей\n",
    "28. Лавреновъ Виталiй\n",
    "29. Лебедь Федор\n",
    "30. Лешков Михаил\n",
    "31. Лозинский Иван\n",
    "32. Лоскутов Антон\n",
    "33. Лютов Владимир\n",
    "34. Мажаров Иван\n",
    "35. Манкевич Павел\n",
    "36. Муравьев Никита\n",
    "37. Находнов Максим\n",
    "38. Оплачко Николай\n",
    "39. Павлов Евгений\n",
    "40. Петряйкин Федор\n",
    "41. Рахматуллин Фарид\n",
    "42. Секретарев Тихон\n",
    "43. Сенюшкин Дмитрий\n",
    "44. Серов Николай\n",
    "45. Смирнов Александр\n",
    "46. Соловьев Павел\n",
    "47. Сомов Иван\n",
    "48. Спиркин Роман\n",
    "49. Терёшина Мария\n",
    "50. Торбунова Екатерина\n",
    "51. Тюгаев Антон\n",
    "52. Фельдман Борис\n",
    "53. Филин Максим\n",
    "54. Фролов Михаил\n",
    "55. Хохлов Олег\n",
    "56. Черемнов Андрей\n",
    "57. Шевцов Антон\n",
    "58. Шурыгин Александр"
   ]
  },
  {
   "cell_type": "code",
   "execution_count": 3,
   "metadata": {
    "collapsed": true
   },
   "outputs": [],
   "source": [
    "N = 46 # put your index here"
   ]
  },
  {
   "cell_type": "code",
   "execution_count": 4,
   "metadata": {},
   "outputs": [
    {
     "name": "stdout",
     "output_type": "stream",
     "text": [
      "Реализуем алгоритм кластеризации 'Hierarchical clustering с поддержкой single-linkage, complete-linkage, average-linkage (параметры - k, linkage)'\n"
     ]
    }
   ],
   "source": [
    "algorithms = [\n",
    "    u\"Gaussian Mixture Model с использованием maximum a-posteriori для выбора кластера (параметр - k)\",\n",
    "    u\"Hierarchical clustering с поддержкой single-linkage, complete-linkage, average-linkage (параметры - k, linkage)\",\n",
    "    u\"DBSCAN. (параметры - epsilon, min_pts)\"\n",
    "]\n",
    "\n",
    "my_algorithm = algorithms[N % len(algorithms)]\n",
    "print u\"Реализуем алгоритм кластеризации '%s'\" % my_algorithm"
   ]
  },
  {
   "cell_type": "markdown",
   "metadata": {},
   "source": [
    "Алгоритм кластеризации должен удовлетворять следующему интерфейсу. Конструктор принимает набор параметров, необходимых для работы алгоритма кластеризации. Метод `fit` подсчитывает параметры модели и возвращает `self`. Метод `predict` возвращает вектор с индексами кластеров для поданных в него объектов `x`"
   ]
  },
  {
   "cell_type": "code",
   "execution_count": 37,
   "metadata": {
    "collapsed": true
   },
   "outputs": [],
   "source": [
    "## Задание 1\n",
    "from sklearn.base import BaseEstimator, ClusterMixin\n",
    "\n",
    "class Clustering(BaseEstimator, ClusterMixin):\n",
    "    \"\"\"\n",
    "    Implement clustering algorithm according \n",
    "    \"\"\"\n",
    "    \n",
    "    def __init__(self, k=2, metric=\"euclidean\", linkage=\"single\"):\n",
    "        self.k = k\n",
    "        self.metric = metric\n",
    "        self.linkage = linkage\n",
    "        return\n",
    "        \n",
    "    def fit(self, X, y=None):\n",
    "        #Количество кластеров\n",
    "        k = len(X)\n",
    "        #Список кластеров\n",
    "        Y = map(lambda x: [list(x)], X)\n",
    "        \n",
    "        while k != self.k:\n",
    "            #Находим минимальное расстояние\n",
    "            D = self.distance(Y)\n",
    "            pair = min(D, key=D.get)\n",
    "            \n",
    "            old_clust_1, old_clust_2 = Y[pair[0]], Y[pair[1]]\n",
    "            new_clust = old_clust_1 + old_clust_2\n",
    "               \n",
    "            #Удаляем старые кластеры и добавляем новый\n",
    "            Y.remove(old_clust_1)\n",
    "            Y.remove(old_clust_2)\n",
    "            Y += [new_clust]\n",
    "            \n",
    "            k -= 1\n",
    "        \n",
    "        self.clusters = Y\n",
    "        \n",
    "        return self\n",
    "    \n",
    "    def predict(self, X):\n",
    "        labels = np.empty(len(X))\n",
    "        \n",
    "        for i in xrange(len(X)):\n",
    "            Y = map(lambda x: self.linkage_f([X[i]], x), self.clusters)\n",
    "            labels[i] = np.argmin(Y)\n",
    "        \n",
    "        return labels\n",
    "    \n",
    "    def fit_predict(self, X, y=None):\n",
    "        self.fit(X, y)\n",
    "        return self.predict(X)\n",
    "    \n",
    "    #Возвращает расстояние между 2 кластерами\n",
    "    def linkage_f(self, X, Y):\n",
    "        Z = smt.pairwise_distances(X, Y, metric=self.metric)\n",
    "        \n",
    "        if self.linkage == \"single\":\n",
    "            return np.min(Z)\n",
    "        elif self.linkage == \"complete\":\n",
    "            return np.max(Z)\n",
    "        else:\n",
    "            return np.sum(Z)/(len(X)*len(Y))\n",
    "    \n",
    "    #Возвращает словарь расстояний между кластерами\n",
    "    def distance(self, X):\n",
    "        l = len(X)\n",
    "        D = {}\n",
    "        \n",
    "        for i in xrange(l):\n",
    "            for j in xrange(i + 1, l):\n",
    "                D[(i, j)] = self.linkage_f(X[i], X[j])\n",
    "                \n",
    "        return D"
   ]
  },
  {
   "cell_type": "markdown",
   "metadata": {},
   "source": [
    "Сначала проверим реализованный алгоритм кластеризации на классическом наборе данных [Iris](http://www.wikiwand.com/en/Iris_flower_data_set). Загрузим данные (они включены в библиотеку sklearn) и посмотрим на то, как они выглядят в двух проекциях (для простоты используем 2 класса из 3)."
   ]
  },
  {
   "cell_type": "code",
   "execution_count": 94,
   "metadata": {},
   "outputs": [
    {
     "data": {
      "image/png": "[encoded data removed]",
      "text/plain": [
       "<matplotlib.figure.Figure at 0x7f4fedf82fd0>"
      ]
     },
     "metadata": {},
     "output_type": "display_data"
    }
   ],
   "source": [
    "iris = ds.load_iris()\n",
    "x_iris = iris.data[:100]\n",
    "y_iris = iris.target[:100]\n",
    "\n",
    "pl.figure(figsize=(10, 5))\n",
    "\n",
    "pl.subplot(1, 2, 1)\n",
    "pl.scatter(x_iris[:, 0], x_iris[:, 1], c=y_iris, cmap=pl.cm.PuOr, lw=0, s=30)\n",
    "plt.xlabel('Sepal length')\n",
    "plt.ylabel('Sepal width')\n",
    "\n",
    "pl.subplot(1, 2, 2)\n",
    "pl.scatter(x_iris[:, 2], x_iris[:, 3], c=y_iris, cmap=pl.cm.PuOr, lw=0, s=30)\n",
    "plt.xlabel('Petal length')\n",
    "plt.ylabel('Petal width')\n",
    "pl.show()"
   ]
  },
  {
   "cell_type": "markdown",
   "metadata": {},
   "source": [
    "Видно, что классы разделяются, поэтому можно надеяться, что наш алгоритм \"найдет\" кластеры, соответствующие исходным классам. Результат работы реализованного алгоритма кластеризации предлагается сравнить с эталонной кластеризацией. Для этого предлагается изучить метрику ([adjusted rand score](http://scikit-learn.org/stable/modules/generated/sklearn.metrics.adjusted_rand_score.html)). В случае если значение этой метрики отличается от 1, предлагается поработать над улучшением реализации своего алгоритма."
   ]
  },
  {
   "cell_type": "code",
   "execution_count": 38,
   "metadata": {},
   "outputs": [
    {
     "name": "stdout",
     "output_type": "stream",
     "text": [
      "Adjusted Rand index for iris is: 1.00\n"
     ]
    }
   ],
   "source": [
    "pred_iris = Clustering().fit_predict(x_iris)\n",
    "print \"Adjusted Rand index for iris is: %.2f\" % smt.adjusted_rand_score(y_iris, pred_iris)"
   ]
  },
  {
   "cell_type": "markdown",
   "metadata": {},
   "source": [
    "Выбрать и реализовать критерий качества, на основании которого будут подбираться параметры модели. Варианты критериев:\n",
    "- Инерция (сумма квадратов расстояний от каждой из точек до ближайшего к этой точке центроида)\n",
    "- Средний диаметр (максимальное расстояние между точками в кластере) или радиус (расстояние от центроида до самой дальней от него точки в кластере)\n",
    "- Sihouette\n",
    "\n",
    "**Критерий качества необходимо выбрать таким образом, чтобы он подходил для реализованного алгоритма**"
   ]
  },
  {
   "cell_type": "code",
   "execution_count": 102,
   "metadata": {
    "collapsed": true
   },
   "outputs": [],
   "source": [
    "## Задание 2\n",
    "def quality(x, y):\n",
    "    \n",
    "    mean = 0\n",
    "    labels = np.unique(y)\n",
    "    b_is = np.empty(len(labels))\n",
    "    \n",
    "    for i in xrange(len(x)):\n",
    "        label = y[i]\n",
    "        D = smt.pairwise_distances(x, [x[i]])\n",
    "        a_i = np.mean(D[y == label])\n",
    "        \n",
    "        for l in labels:\n",
    "            if l != label:\n",
    "                b_is[l] = np.mean(D[y == l])\n",
    "                \n",
    "        b_is[label] = b_is[(label + 1) % len(labels)]\n",
    "        \n",
    "        b_i = np.min(b_is)\n",
    "        \n",
    "        mean += (b_i - a_i)/max(b_i, a_i)\n",
    "    \n",
    "    return mean/len(x)"
   ]
  },
  {
   "cell_type": "markdown",
   "metadata": {},
   "source": [
    "Применим критерий для выбора параметров алгоритма. Предлагается изменить следующий код таким образом, чтобы кластеризация вызывалась с верным набором параметров. На графике можно будет увидеть зависимость критерия от параметров алгоритма. Необходимо выбрать оптимальные значения этих параметров."
   ]
  },
  {
   "cell_type": "code",
   "execution_count": 203,
   "metadata": {},
   "outputs": [
    {
     "data": {
      "image/png": "[encoded data removed]",
      "text/plain": [
       "<matplotlib.figure.Figure at 0x7f4fede86690>"
      ]
     },
     "metadata": {},
     "output_type": "display_data"
    }
   ],
   "source": [
    "x = x_iris\n",
    "ks = range(2, 21)\n",
    "criteria = np.zeros(len(ks))\n",
    "\n",
    "for i, k in enumerate(ks):\n",
    "    cls = Clustering(k=k)\n",
    "    y = cls.fit_predict(x)\n",
    "    criteria[i] = quality(x, y)\n",
    "    \n",
    "pl.figure(figsize=(8, 6))\n",
    "pl.plot(ks, criteria)\n",
    "pl.title(\"$J(k)$\")\n",
    "pl.ylabel(\"Criteria $J$\")\n",
    "pl.xlabel(\"Number of clusters $k$\")\n",
    "pl.grid()\n",
    "pl.show()\n",
    "\n",
    "max_arg = np.argmax(criteria)\n",
    "k = ks[max_arg]\n",
    "\n",
    "cls = Clustering(k=k)\n",
    "y = cls.fit_predict(x)"
   ]
  },
  {
   "cell_type": "code",
   "execution_count": 107,
   "metadata": {
    "collapsed": true
   },
   "outputs": [],
   "source": [
    "## Задание 3\n",
    "df = pd.DataFrame.from_csv(\"WDIData.csv\")"
   ]
  },
  {
   "cell_type": "code",
   "execution_count": 113,
   "metadata": {},
   "outputs": [],
   "source": [
    "df = df.fillna(0)"
   ]
  },
  {
   "cell_type": "code",
   "execution_count": 167,
   "metadata": {},
   "outputs": [],
   "source": [
    "indicators = df[[\"2007\", \"Indicator Name\"]]"
   ]
  },
  {
   "cell_type": "code",
   "execution_count": 171,
   "metadata": {},
   "outputs": [],
   "source": [
    "indicators.reset_index(level=0, inplace=True)"
   ]
  },
  {
   "cell_type": "code",
   "execution_count": 173,
   "metadata": {},
   "outputs": [],
   "source": [
    "indicators = indicators.pivot(index=\"Country Name\", columns=\"Indicator Name\", values=\"2007\")"
   ]
  },
  {
   "cell_type": "code",
   "execution_count": 179,
   "metadata": {},
   "outputs": [],
   "source": [
    "data = np.array(indicators.iloc[:, :])"
   ]
  },
  {
   "cell_type": "code",
   "execution_count": 190,
   "metadata": {},
   "outputs": [
    {
     "name": "stderr",
     "output_type": "stream",
     "text": [
      "/home/soloway2010/anaconda2/lib/python2.7/site-packages/ipykernel_launcher.py:1: RuntimeWarning: invalid value encountered in divide\n",
      "  \"\"\"Entry point for launching an IPython kernel.\n"
     ]
    }
   ],
   "source": [
    "data = (data - data.mean(axis=0))/data.std(axis=0)\n",
    "data = np.nan_to_num(data)"
   ]
  },
  {
   "cell_type": "code",
   "execution_count": 195,
   "metadata": {},
   "outputs": [
    {
     "data": {
      "image/png": "[encoded data removed]",
      "text/plain": [
       "<matplotlib.figure.Figure at 0x7f4fee5383d0>"
      ]
     },
     "metadata": {},
     "output_type": "display_data"
    }
   ],
   "source": [
    "x = data\n",
    "ks = range(2, 21)\n",
    "criteria = np.zeros(len(ks))\n",
    "\n",
    "for i, k in enumerate(ks):\n",
    "    cls = Clustering(k=k)\n",
    "    y = cls.fit_predict(x)\n",
    "    criteria[i] = quality(x, y)\n",
    "    \n",
    "pl.figure(figsize=(8, 6))\n",
    "pl.plot(ks, criteria)\n",
    "pl.title(\"$J(k)$\")\n",
    "pl.ylabel(\"Criteria $J$\")\n",
    "pl.xlabel(\"Number of clusters $k$\")\n",
    "pl.grid()\n",
    "pl.show()\n",
    "\n",
    "max_arg = np.argmax(criteria)\n",
    "k = ks[max_arg]\n",
    "\n",
    "cls = Clustering(k=k)\n",
    "y = cls.fit_predict(x)"
   ]
  },
  {
   "cell_type": "code",
   "execution_count": 199,
   "metadata": {},
   "outputs": [
    {
     "data": {
      "text/html": [
       "<div>\n",
       "<style>\n",
       "    .dataframe thead tr:only-child th {\n",
       "        text-align: right;\n",
       "    }\n",
       "\n",
       "    .dataframe thead th {\n",
       "        text-align: left;\n",
       "    }\n",
       "\n",
       "    .dataframe tbody tr th {\n",
       "        vertical-align: top;\n",
       "    }\n",
       "</style>\n",
       "<table border=\"1\" class=\"dataframe\">\n",
       "  <thead>\n",
       "    <tr style=\"text-align: right;\">\n",
       "      <th>Indicator Name</th>\n",
       "      <th>2005 PPP conversion factor, GDP (LCU per international $)</th>\n",
       "      <th>2005 PPP conversion factor, private consumption (LCU per international $)</th>\n",
       "      <th>ARI treatment (% of children under 5 taken to a health provider)</th>\n",
       "      <th>Access to clean fuels and technologies for cooking  (% of population)</th>\n",
       "      <th>Access to electricity (% of population)</th>\n",
       "      <th>Access to electricity, rural (% of rural population)</th>\n",
       "      <th>Access to electricity, urban (% of urban population)</th>\n",
       "      <th>Account (% age 15+) [ts]</th>\n",
       "      <th>Account at a financial institution (% age 15+)</th>\n",
       "      <th>Account at a financial institution, female (% age 15+)</th>\n",
       "      <th>...</th>\n",
       "      <th>Wholesale price index (2010 = 100)</th>\n",
       "      <th>Women participating in the three decisions (own health care, major household purchases, and visiting family) (% of women age 15-49)</th>\n",
       "      <th>Women who believe a husband is justified in beating his wife (any of five reasons) (%)</th>\n",
       "      <th>Women who believe a husband is justified in beating his wife when she argues with him (%)</th>\n",
       "      <th>Women who believe a husband is justified in beating his wife when she burns the food (%)</th>\n",
       "      <th>Women who believe a husband is justified in beating his wife when she goes out without telling him (%)</th>\n",
       "      <th>Women who believe a husband is justified in beating his wife when she neglects the children (%)</th>\n",
       "      <th>Women who believe a husband is justified in beating his wife when she refuses sex with him (%)</th>\n",
       "      <th>Women who were first married by age 18 (% of women ages 20-24)</th>\n",
       "      <th>Women's share of population ages 15+ living with HIV (%)</th>\n",
       "    </tr>\n",
       "    <tr>\n",
       "      <th>Country Name</th>\n",
       "      <th></th>\n",
       "      <th></th>\n",
       "      <th></th>\n",
       "      <th></th>\n",
       "      <th></th>\n",
       "      <th></th>\n",
       "      <th></th>\n",
       "      <th></th>\n",
       "      <th></th>\n",
       "      <th></th>\n",
       "      <th></th>\n",
       "      <th></th>\n",
       "      <th></th>\n",
       "      <th></th>\n",
       "      <th></th>\n",
       "      <th></th>\n",
       "      <th></th>\n",
       "      <th></th>\n",
       "      <th></th>\n",
       "      <th></th>\n",
       "      <th></th>\n",
       "    </tr>\n",
       "  </thead>\n",
       "  <tbody>\n",
       "    <tr>\n",
       "      <th>Low &amp; middle income</th>\n",
       "      <td>0.0</td>\n",
       "      <td>0.0</td>\n",
       "      <td>0.0</td>\n",
       "      <td>44.867973</td>\n",
       "      <td>77.821907</td>\n",
       "      <td>65.255305</td>\n",
       "      <td>92.052848</td>\n",
       "      <td>0.0</td>\n",
       "      <td>0.0</td>\n",
       "      <td>0.0</td>\n",
       "      <td>...</td>\n",
       "      <td>0.0</td>\n",
       "      <td>0.0</td>\n",
       "      <td>0.0</td>\n",
       "      <td>0.0</td>\n",
       "      <td>0.0</td>\n",
       "      <td>0.0</td>\n",
       "      <td>0.0</td>\n",
       "      <td>0.0</td>\n",
       "      <td>0.0</td>\n",
       "      <td>47.808716</td>\n",
       "    </tr>\n",
       "    <tr>\n",
       "      <th>Middle income</th>\n",
       "      <td>0.0</td>\n",
       "      <td>0.0</td>\n",
       "      <td>0.0</td>\n",
       "      <td>48.904437</td>\n",
       "      <td>83.747327</td>\n",
       "      <td>72.878384</td>\n",
       "      <td>95.198362</td>\n",
       "      <td>0.0</td>\n",
       "      <td>0.0</td>\n",
       "      <td>0.0</td>\n",
       "      <td>...</td>\n",
       "      <td>0.0</td>\n",
       "      <td>0.0</td>\n",
       "      <td>0.0</td>\n",
       "      <td>0.0</td>\n",
       "      <td>0.0</td>\n",
       "      <td>0.0</td>\n",
       "      <td>0.0</td>\n",
       "      <td>0.0</td>\n",
       "      <td>0.0</td>\n",
       "      <td>43.159210</td>\n",
       "    </tr>\n",
       "    <tr>\n",
       "      <th>Upper middle income</th>\n",
       "      <td>0.0</td>\n",
       "      <td>0.0</td>\n",
       "      <td>0.0</td>\n",
       "      <td>66.944733</td>\n",
       "      <td>97.497755</td>\n",
       "      <td>94.481669</td>\n",
       "      <td>0.000000</td>\n",
       "      <td>0.0</td>\n",
       "      <td>0.0</td>\n",
       "      <td>0.0</td>\n",
       "      <td>...</td>\n",
       "      <td>0.0</td>\n",
       "      <td>0.0</td>\n",
       "      <td>0.0</td>\n",
       "      <td>0.0</td>\n",
       "      <td>0.0</td>\n",
       "      <td>0.0</td>\n",
       "      <td>0.0</td>\n",
       "      <td>0.0</td>\n",
       "      <td>0.0</td>\n",
       "      <td>0.000000</td>\n",
       "    </tr>\n",
       "  </tbody>\n",
       "</table>\n",
       "<p>3 rows × 1553 columns</p>\n",
       "</div>"
      ],
      "text/plain": [
       "Indicator Name       2005 PPP conversion factor, GDP (LCU per international $)  \\\n",
       "Country Name                                                                     \n",
       "Low & middle income                                                0.0           \n",
       "Middle income                                                      0.0           \n",
       "Upper middle income                                                0.0           \n",
       "\n",
       "Indicator Name       2005 PPP conversion factor, private consumption (LCU per international $)  \\\n",
       "Country Name                                                                                     \n",
       "Low & middle income                                                0.0                           \n",
       "Middle income                                                      0.0                           \n",
       "Upper middle income                                                0.0                           \n",
       "\n",
       "Indicator Name       ARI treatment (% of children under 5 taken to a health provider)  \\\n",
       "Country Name                                                                            \n",
       "Low & middle income                                                0.0                  \n",
       "Middle income                                                      0.0                  \n",
       "Upper middle income                                                0.0                  \n",
       "\n",
       "Indicator Name       Access to clean fuels and technologies for cooking  (% of population)  \\\n",
       "Country Name                                                                                 \n",
       "Low & middle income                                          44.867973                       \n",
       "Middle income                                                48.904437                       \n",
       "Upper middle income                                          66.944733                       \n",
       "\n",
       "Indicator Name       Access to electricity (% of population)  \\\n",
       "Country Name                                                   \n",
       "Low & middle income                                77.821907   \n",
       "Middle income                                      83.747327   \n",
       "Upper middle income                                97.497755   \n",
       "\n",
       "Indicator Name       Access to electricity, rural (% of rural population)  \\\n",
       "Country Name                                                                \n",
       "Low & middle income                                          65.255305      \n",
       "Middle income                                                72.878384      \n",
       "Upper middle income                                          94.481669      \n",
       "\n",
       "Indicator Name       Access to electricity, urban (% of urban population)  \\\n",
       "Country Name                                                                \n",
       "Low & middle income                                          92.052848      \n",
       "Middle income                                                95.198362      \n",
       "Upper middle income                                           0.000000      \n",
       "\n",
       "Indicator Name       Account (% age 15+) [ts]  \\\n",
       "Country Name                                    \n",
       "Low & middle income                       0.0   \n",
       "Middle income                             0.0   \n",
       "Upper middle income                       0.0   \n",
       "\n",
       "Indicator Name       Account at a financial institution (% age 15+)  \\\n",
       "Country Name                                                          \n",
       "Low & middle income                                             0.0   \n",
       "Middle income                                                   0.0   \n",
       "Upper middle income                                             0.0   \n",
       "\n",
       "Indicator Name       Account at a financial institution, female (% age 15+)  \\\n",
       "Country Name                                                                  \n",
       "Low & middle income                                                0.0        \n",
       "Middle income                                                      0.0        \n",
       "Upper middle income                                                0.0        \n",
       "\n",
       "Indicator Name                                 ...                             \\\n",
       "Country Name                                   ...                              \n",
       "Low & middle income                            ...                              \n",
       "Middle income                                  ...                              \n",
       "Upper middle income                            ...                              \n",
       "\n",
       "Indicator Name       Wholesale price index (2010 = 100)  \\\n",
       "Country Name                                              \n",
       "Low & middle income                                 0.0   \n",
       "Middle income                                       0.0   \n",
       "Upper middle income                                 0.0   \n",
       "\n",
       "Indicator Name       Women participating in the three decisions (own health care, major household purchases, and visiting family) (% of women age 15-49)  \\\n",
       "Country Name                                                                                                                                               \n",
       "Low & middle income                                                0.0                                                                                     \n",
       "Middle income                                                      0.0                                                                                     \n",
       "Upper middle income                                                0.0                                                                                     \n",
       "\n",
       "Indicator Name       Women who believe a husband is justified in beating his wife (any of five reasons) (%)  \\\n",
       "Country Name                                                                                                  \n",
       "Low & middle income                                                0.0                                        \n",
       "Middle income                                                      0.0                                        \n",
       "Upper middle income                                                0.0                                        \n",
       "\n",
       "Indicator Name       Women who believe a husband is justified in beating his wife when she argues with him (%)  \\\n",
       "Country Name                                                                                                     \n",
       "Low & middle income                                                0.0                                           \n",
       "Middle income                                                      0.0                                           \n",
       "Upper middle income                                                0.0                                           \n",
       "\n",
       "Indicator Name       Women who believe a husband is justified in beating his wife when she burns the food (%)  \\\n",
       "Country Name                                                                                                    \n",
       "Low & middle income                                                0.0                                          \n",
       "Middle income                                                      0.0                                          \n",
       "Upper middle income                                                0.0                                          \n",
       "\n",
       "Indicator Name       Women who believe a husband is justified in beating his wife when she goes out without telling him (%)  \\\n",
       "Country Name                                                                                                                  \n",
       "Low & middle income                                                0.0                                                        \n",
       "Middle income                                                      0.0                                                        \n",
       "Upper middle income                                                0.0                                                        \n",
       "\n",
       "Indicator Name       Women who believe a husband is justified in beating his wife when she neglects the children (%)  \\\n",
       "Country Name                                                                                                           \n",
       "Low & middle income                                                0.0                                                 \n",
       "Middle income                                                      0.0                                                 \n",
       "Upper middle income                                                0.0                                                 \n",
       "\n",
       "Indicator Name       Women who believe a husband is justified in beating his wife when she refuses sex with him (%)  \\\n",
       "Country Name                                                                                                          \n",
       "Low & middle income                                                0.0                                                \n",
       "Middle income                                                      0.0                                                \n",
       "Upper middle income                                                0.0                                                \n",
       "\n",
       "Indicator Name       Women who were first married by age 18 (% of women ages 20-24)  \\\n",
       "Country Name                                                                          \n",
       "Low & middle income                                                0.0                \n",
       "Middle income                                                      0.0                \n",
       "Upper middle income                                                0.0                \n",
       "\n",
       "Indicator Name       Women's share of population ages 15+ living with HIV (%)  \n",
       "Country Name                                                                   \n",
       "Low & middle income                                          47.808716         \n",
       "Middle income                                                43.159210         \n",
       "Upper middle income                                           0.000000         \n",
       "\n",
       "[3 rows x 1553 columns]"
      ]
     },
     "execution_count": 199,
     "metadata": {},
     "output_type": "execute_result"
    }
   ],
   "source": [
    "indicators[y == 1]"
   ]
  },
  {
   "cell_type": "code",
   "execution_count": 200,
   "metadata": {
    "collapsed": true
   },
   "outputs": [],
   "source": [
    "data_embedded = sm.TSNE(n_components=2).fit_transform(data)"
   ]
  },
  {
   "cell_type": "code",
   "execution_count": 202,
   "metadata": {},
   "outputs": [
    {
     "data": {
      "text/plain": [
       "<matplotlib.collections.PathCollection at 0x7f4fedec9350>"
      ]
     },
     "execution_count": 202,
     "metadata": {},
     "output_type": "execute_result"
    },
    {
     "data": {
      "image/png": "[encoded data removed]",
      "text/plain": [
       "<matplotlib.figure.Figure at 0x7f4fee707750>"
      ]
     },
     "metadata": {},
     "output_type": "display_data"
    }
   ],
   "source": [
    "pl.scatter(data_embedded[:, 0], data_embedded[:, 1], c=y)"
   ]
  },
  {
   "cell_type": "code",
   "execution_count": null,
   "metadata": {
    "collapsed": true
   },
   "outputs": [],
   "source": [
    "## Задание 4"
   ]
  },
  {
   "cell_type": "markdown",
   "metadata": {},
   "source": [
    "Поздравляем, Вы завершили домашние задания по модулю \"Алгоритмы кластеризации\". Надеемся, что это было интересно."
   ]
  }
 ],
 "metadata": {
  "kernelspec": {
   "display_name": "Python 2",
   "language": "python",
   "name": "python2"
  },
  "language_info": {
   "codemirror_mode": {
    "name": "ipython",
    "version": 2
   },
   "file_extension": ".py",
   "mimetype": "text/x-python",
   "name": "python",
   "nbconvert_exporter": "python",
   "pygments_lexer": "ipython2",
   "version": "2.7.13"
  }
 },
 "nbformat": 4,
 "nbformat_minor": 1
}
