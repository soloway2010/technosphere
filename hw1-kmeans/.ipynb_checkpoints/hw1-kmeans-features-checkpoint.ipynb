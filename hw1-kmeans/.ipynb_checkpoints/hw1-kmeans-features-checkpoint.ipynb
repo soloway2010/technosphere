{
 "cells": [
  {
   "cell_type": "markdown",
   "metadata": {},
   "source": [
    "# Алгоритмы интеллектуальной обработки больших объемов данных\n",
    "## Домашнее задание №1 - Метод k-средних, предобработка признаков\n"
   ]
  },
  {
   "cell_type": "markdown",
   "metadata": {},
   "source": [
    "# <hr\\>\n",
    "**Общая информация**\n",
    "\n",
    "**Срок сдачи:** до 7 октября 2017, 06:00   \n",
    "**Штраф за опоздание:** -2 балла после 06:00 7 октября, -4 балла после 06:00 14 октября, -6 баллов после 06:00 21 октября\n",
    "\n",
    "При отправлении ДЗ указывайте фамилию в названии файла   \n",
    "\n",
    "\n",
    "Присылать ДЗ необходимо в виде ссылки на свой github репозиторий в slack @alkhamush\n",
    "Необходимо в slack создать таск в приватный чат:   \n",
    "/todo Фамилия Имя *ссылка на гитхаб* @alkhamush   \n",
    "Пример:   \n",
    "/todo Ксения Стройкова https://github.com/stroykova/spheremailru/stroykova_hw1.ipynb @alkhamush   \n",
    "\n",
    "Используйте данный Ipython Notebook при оформлении домашнего задания.\n",
    "<hr\\>"
   ]
  },
  {
   "cell_type": "markdown",
   "metadata": {},
   "source": [
    "# Первое задание - указать фамилию в имени файла"
   ]
  },
  {
   "cell_type": "code",
   "execution_count": 2,
   "metadata": {
    "collapsed": true
   },
   "outputs": [],
   "source": [
    "import pandas as pd\n",
    "import numpy as np\n",
    "import matplotlib.pyplot as plt\n",
    "\n",
    "%matplotlib inline\n",
    "\n",
    "plt.style.use('ggplot')\n",
    "plt.rcParams['figure.figsize'] = (12,5)"
   ]
  },
  {
   "cell_type": "markdown",
   "metadata": {},
   "source": [
    "# Пролог: Модуль sklearn\n",
    "На наших практических занятиях мы будем использовать [sklearn](http://scikit-learn.org/stable/index.html) (scikit-learn) - наиболее популярный модуль для работы с методами машинного обучения и анализа данных.\n",
    "\n",
    "Этот модуль регулярно обновляется, расширяется и сопровождается примерами использования тех или иных методов. Помимо самих алгоритмов (например k-средних или линейной регрессии) в нем есть множество вспомогательных функций по работе с данными."
   ]
  },
  {
   "cell_type": "markdown",
   "metadata": {},
   "source": [
    "# Туториал: Работа с различными типами признаков"
   ]
  },
  {
   "cell_type": "markdown",
   "metadata": {},
   "source": [
    "Вспомним какие типы признаков могут встретится при описании объектов исследования и как их представить в доступной для обработки компьтером форме"
   ]
  },
  {
   "cell_type": "markdown",
   "metadata": {},
   "source": [
    "Типы признаков мы будем рассматривать на примере довольно популярного набора данных [titanic](https://www.kaggle.com/c/titanic/download/train.csv) - информации о выживаемости пассажиров после известной трагедии корабля Titanic."
   ]
  },
  {
   "cell_type": "raw",
   "metadata": {},
   "source": [
    "ARIABLE DESCRIPTIONS:\n",
    "survival        Survival\n",
    "                (0 = No; 1 = Yes)\n",
    "pclass          Passenger Class\n",
    "                (1 = 1st; 2 = 2nd; 3 = 3rd)\n",
    "name            Name\n",
    "sex             Sex\n",
    "age             Age\n",
    "sibsp           Number of Siblings/Spouses Aboard\n",
    "parch           Number of Parents/Children Aboard\n",
    "ticket          Ticket Number\n",
    "fare            Passenger Fare\n",
    "cabin           Cabin\n",
    "embarked        Port of Embarkation\n",
    "                (C = Cherbourg; Q = Queenstown; S = Southampton)"
   ]
  },
  {
   "cell_type": "code",
   "execution_count": 3,
   "metadata": {},
   "outputs": [
    {
     "data": {
      "text/html": [
       "<div>\n",
       "<style>\n",
       "    .dataframe thead tr:only-child th {\n",
       "        text-align: right;\n",
       "    }\n",
       "\n",
       "    .dataframe thead th {\n",
       "        text-align: left;\n",
       "    }\n",
       "\n",
       "    .dataframe tbody tr th {\n",
       "        vertical-align: top;\n",
       "    }\n",
       "</style>\n",
       "<table border=\"1\" class=\"dataframe\">\n",
       "  <thead>\n",
       "    <tr style=\"text-align: right;\">\n",
       "      <th></th>\n",
       "      <th>PassengerId</th>\n",
       "      <th>Survived</th>\n",
       "      <th>Pclass</th>\n",
       "      <th>Name</th>\n",
       "      <th>Sex</th>\n",
       "      <th>Age</th>\n",
       "      <th>SibSp</th>\n",
       "      <th>Parch</th>\n",
       "      <th>Ticket</th>\n",
       "      <th>Fare</th>\n",
       "      <th>Cabin</th>\n",
       "      <th>Embarked</th>\n",
       "    </tr>\n",
       "  </thead>\n",
       "  <tbody>\n",
       "    <tr>\n",
       "      <th>1</th>\n",
       "      <td>2</td>\n",
       "      <td>1</td>\n",
       "      <td>1</td>\n",
       "      <td>Cumings, Mrs. John Bradley (Florence Briggs Th...</td>\n",
       "      <td>female</td>\n",
       "      <td>38.0</td>\n",
       "      <td>1</td>\n",
       "      <td>0</td>\n",
       "      <td>PC 17599</td>\n",
       "      <td>71.2833</td>\n",
       "      <td>C85</td>\n",
       "      <td>C</td>\n",
       "    </tr>\n",
       "    <tr>\n",
       "      <th>3</th>\n",
       "      <td>4</td>\n",
       "      <td>1</td>\n",
       "      <td>1</td>\n",
       "      <td>Futrelle, Mrs. Jacques Heath (Lily May Peel)</td>\n",
       "      <td>female</td>\n",
       "      <td>35.0</td>\n",
       "      <td>1</td>\n",
       "      <td>0</td>\n",
       "      <td>113803</td>\n",
       "      <td>53.1000</td>\n",
       "      <td>C123</td>\n",
       "      <td>S</td>\n",
       "    </tr>\n",
       "    <tr>\n",
       "      <th>6</th>\n",
       "      <td>7</td>\n",
       "      <td>0</td>\n",
       "      <td>1</td>\n",
       "      <td>McCarthy, Mr. Timothy J</td>\n",
       "      <td>male</td>\n",
       "      <td>54.0</td>\n",
       "      <td>0</td>\n",
       "      <td>0</td>\n",
       "      <td>17463</td>\n",
       "      <td>51.8625</td>\n",
       "      <td>E46</td>\n",
       "      <td>S</td>\n",
       "    </tr>\n",
       "    <tr>\n",
       "      <th>10</th>\n",
       "      <td>11</td>\n",
       "      <td>1</td>\n",
       "      <td>3</td>\n",
       "      <td>Sandstrom, Miss. Marguerite Rut</td>\n",
       "      <td>female</td>\n",
       "      <td>4.0</td>\n",
       "      <td>1</td>\n",
       "      <td>1</td>\n",
       "      <td>PP 9549</td>\n",
       "      <td>16.7000</td>\n",
       "      <td>G6</td>\n",
       "      <td>S</td>\n",
       "    </tr>\n",
       "    <tr>\n",
       "      <th>11</th>\n",
       "      <td>12</td>\n",
       "      <td>1</td>\n",
       "      <td>1</td>\n",
       "      <td>Bonnell, Miss. Elizabeth</td>\n",
       "      <td>female</td>\n",
       "      <td>58.0</td>\n",
       "      <td>0</td>\n",
       "      <td>0</td>\n",
       "      <td>113783</td>\n",
       "      <td>26.5500</td>\n",
       "      <td>C103</td>\n",
       "      <td>S</td>\n",
       "    </tr>\n",
       "  </tbody>\n",
       "</table>\n",
       "</div>"
      ],
      "text/plain": [
       "    PassengerId  Survived  Pclass  \\\n",
       "1             2         1       1   \n",
       "3             4         1       1   \n",
       "6             7         0       1   \n",
       "10           11         1       3   \n",
       "11           12         1       1   \n",
       "\n",
       "                                                 Name     Sex   Age  SibSp  \\\n",
       "1   Cumings, Mrs. John Bradley (Florence Briggs Th...  female  38.0      1   \n",
       "3        Futrelle, Mrs. Jacques Heath (Lily May Peel)  female  35.0      1   \n",
       "6                             McCarthy, Mr. Timothy J    male  54.0      0   \n",
       "10                    Sandstrom, Miss. Marguerite Rut  female   4.0      1   \n",
       "11                           Bonnell, Miss. Elizabeth  female  58.0      0   \n",
       "\n",
       "    Parch    Ticket     Fare Cabin Embarked  \n",
       "1       0  PC 17599  71.2833   C85        C  \n",
       "3       0    113803  53.1000  C123        S  \n",
       "6       0     17463  51.8625   E46        S  \n",
       "10      1   PP 9549  16.7000    G6        S  \n",
       "11      0    113783  26.5500  C103        S  "
      ]
     },
     "execution_count": 3,
     "metadata": {},
     "output_type": "execute_result"
    }
   ],
   "source": [
    "df_titanic = pd.read_csv('train.csv', sep=',').dropna()\n",
    "df_titanic.head()"
   ]
  },
  {
   "cell_type": "markdown",
   "metadata": {},
   "source": [
    "## Бинарные признаки\n",
    "Это признаки с двумя возможными значениями\n",
    "* Пол (мужской, женский)\n",
    "* Выжил (да, нет)\n",
    "\n",
    "На вход в алгоритмы обычно подаются в виде значений `{0, 1}` (реже в виде `{-1, 1}`)"
   ]
  },
  {
   "cell_type": "code",
   "execution_count": 4,
   "metadata": {},
   "outputs": [
    {
     "data": {
      "text/plain": [
       "1    123\n",
       "0     60\n",
       "Name: Survived, dtype: int64"
      ]
     },
     "execution_count": 4,
     "metadata": {},
     "output_type": "execute_result"
    }
   ],
   "source": [
    "# Здесь все нормально\n",
    "df_titanic.Survived.value_counts()"
   ]
  },
  {
   "cell_type": "code",
   "execution_count": 5,
   "metadata": {},
   "outputs": [
    {
     "data": {
      "text/plain": [
       "male      95\n",
       "female    88\n",
       "Name: Sex, dtype: int64"
      ]
     },
     "execution_count": 5,
     "metadata": {},
     "output_type": "execute_result"
    }
   ],
   "source": [
    "# Тут стоит выполнить переобознаение\n",
    "df_titanic.Sex.value_counts()"
   ]
  },
  {
   "cell_type": "code",
   "execution_count": 6,
   "metadata": {},
   "outputs": [
    {
     "data": {
      "text/plain": [
       "0    95\n",
       "1    88\n",
       "Name: Sex, dtype: int64"
      ]
     },
     "execution_count": 6,
     "metadata": {},
     "output_type": "execute_result"
    }
   ],
   "source": [
    "# Например так\n",
    "df_titanic.Sex = df_titanic.Sex.replace({'male': 0, 'female': 1})\n",
    "df_titanic.Sex.value_counts()"
   ]
  },
  {
   "cell_type": "markdown",
   "metadata": {},
   "source": [
    "## Вещественные признаки\n",
    "\n",
    "* Возраст\n",
    "* Сумма, потраченная на билет\n",
    "* Количество родственников на борту\n",
    "\n",
    "Как правило остаются в том же виде или выполняется **нормализация** признаков, т.е. переход к одинаковой шкале, например:\n",
    "\n",
    "* $\\tilde{x} = \\frac{x - \\text{mean}(x)}{\\text{std}(x)}$\n",
    "* $\\tilde{x} = \\frac{x - \\text{min}(x)}{\\text{max}(x) - \\text{min}(x)}$"
   ]
  },
  {
   "cell_type": "markdown",
   "metadata": {},
   "source": [
    "## Категориальные признаки\n",
    "\n",
    "Принимают значения из *неупорядоченного* множества\n",
    "\n",
    "* Порт погрузки (C = Cherbourg; Q = Queenstown; S = Southampton)\n",
    "* Точка отправления (St Louis, MO; Montreal, PQ; .. }\n",
    "* Точка назначения (Chesterville, ON; Roseville, IL; .. }\n",
    "\n",
    "Обычно такие признаки кодируют с помощью так называемого One Hot Encoding: </br>\n",
    "для каждой категории создается бинарная маска-столбец, в которой стоит `1` если значение признака равно значению соответствующей категории категории.\n",
    "\n",
    "Например, для признака \"порт погрзки\" создается бинарная макска из трех стобцов для каждого из портов: С, Q, S<br/>\n",
    "Если пассажир заходил на кораблю в порту Southampton, то его признаковое описание будет соответственно: `[0, 0, 1]`"
   ]
  },
  {
   "cell_type": "code",
   "execution_count": 7,
   "metadata": {},
   "outputs": [
    {
     "data": {
      "text/plain": [
       "1     C\n",
       "3     S\n",
       "6     S\n",
       "10    S\n",
       "11    S\n",
       "Name: Embarked, dtype: object"
      ]
     },
     "execution_count": 7,
     "metadata": {},
     "output_type": "execute_result"
    }
   ],
   "source": [
    "df_titanic.Embarked.head()"
   ]
  },
  {
   "cell_type": "code",
   "execution_count": 8,
   "metadata": {},
   "outputs": [
    {
     "data": {
      "text/html": [
       "<div>\n",
       "<style>\n",
       "    .dataframe thead tr:only-child th {\n",
       "        text-align: right;\n",
       "    }\n",
       "\n",
       "    .dataframe thead th {\n",
       "        text-align: left;\n",
       "    }\n",
       "\n",
       "    .dataframe tbody tr th {\n",
       "        vertical-align: top;\n",
       "    }\n",
       "</style>\n",
       "<table border=\"1\" class=\"dataframe\">\n",
       "  <thead>\n",
       "    <tr style=\"text-align: right;\">\n",
       "      <th></th>\n",
       "      <th>Embarked=C</th>\n",
       "      <th>Embarked=Q</th>\n",
       "      <th>Embarked=S</th>\n",
       "    </tr>\n",
       "  </thead>\n",
       "  <tbody>\n",
       "    <tr>\n",
       "      <th>1</th>\n",
       "      <td>1</td>\n",
       "      <td>0</td>\n",
       "      <td>0</td>\n",
       "    </tr>\n",
       "    <tr>\n",
       "      <th>3</th>\n",
       "      <td>0</td>\n",
       "      <td>0</td>\n",
       "      <td>1</td>\n",
       "    </tr>\n",
       "    <tr>\n",
       "      <th>6</th>\n",
       "      <td>0</td>\n",
       "      <td>0</td>\n",
       "      <td>1</td>\n",
       "    </tr>\n",
       "    <tr>\n",
       "      <th>10</th>\n",
       "      <td>0</td>\n",
       "      <td>0</td>\n",
       "      <td>1</td>\n",
       "    </tr>\n",
       "    <tr>\n",
       "      <th>11</th>\n",
       "      <td>0</td>\n",
       "      <td>0</td>\n",
       "      <td>1</td>\n",
       "    </tr>\n",
       "  </tbody>\n",
       "</table>\n",
       "</div>"
      ],
      "text/plain": [
       "    Embarked=C  Embarked=Q  Embarked=S\n",
       "1            1           0           0\n",
       "3            0           0           1\n",
       "6            0           0           1\n",
       "10           0           0           1\n",
       "11           0           0           1"
      ]
     },
     "execution_count": 8,
     "metadata": {},
     "output_type": "execute_result"
    }
   ],
   "source": [
    "# Сделать в python это можно несколькими способами:\n",
    "\n",
    "# 1: Через pandas (не очень рекомендуется)\n",
    "emb = pd.get_dummies(df_titanic.Embarked, prefix='Embarked', prefix_sep='=')\n",
    "emb.head()"
   ]
  },
  {
   "cell_type": "code",
   "execution_count": 9,
   "metadata": {},
   "outputs": [
    {
     "data": {
      "text/plain": [
       "array([[ 1.,  0.,  0.],\n",
       "       [ 0.,  0.,  1.],\n",
       "       [ 0.,  0.,  1.],\n",
       "       [ 0.,  0.,  1.],\n",
       "       [ 0.,  0.,  1.]])"
      ]
     },
     "execution_count": 9,
     "metadata": {},
     "output_type": "execute_result"
    }
   ],
   "source": [
    "# 2: Функционал sklearn\n",
    "from sklearn.preprocessing import OneHotEncoder\n",
    "\n",
    "encoder = OneHotEncoder(sparse=False)\n",
    "\n",
    "emb = df_titanic.loc[:, ['Embarked']].replace({'C': 0, 'Q': 1, 'S': 2}).values\n",
    "emb_enc = encoder.fit_transform(emb)\n",
    "emb_enc[:5]"
   ]
  },
  {
   "cell_type": "markdown",
   "metadata": {},
   "source": [
    "Про другием способы работы с категориальными переменными можно прочитать вот [тут](https://alexanderdyakonov.wordpress.com/2016/08/03/python-%D0%BA%D0%B0%D1%82%D0%B5%D0%B3%D0%BE%D1%80%D0%B8%D0%B0%D0%BB%D1%8C%D0%BD%D1%8B%D0%B5-%D0%BF%D1%80%D0%B8%D0%B7%D0%BD%D0%B0%D0%BA%D0%B8/)"
   ]
  },
  {
   "cell_type": "markdown",
   "metadata": {},
   "source": [
    "## Порядковый признаки"
   ]
  },
  {
   "cell_type": "markdown",
   "metadata": {},
   "source": [
    "Принимают значения из *упорядоченного* множества\n",
    "\n",
    "* Класс каюты (1 > 2 > 3)\n",
    "\n",
    "В зависимости от метода остаются можно оставить в исходном виде или применить OneHotEncoding."
   ]
  },
  {
   "cell_type": "markdown",
   "metadata": {},
   "source": [
    "## Текстовые признаки - Bag of words"
   ]
  },
  {
   "cell_type": "markdown",
   "metadata": {},
   "source": [
    "Для демонстрации возьмем текст стихотворения Блока:\n",
    "\n",
    "Ночь, улица, фонарь, аптека,<br/>\n",
    "Бессмысленный и тусклый свет.<br/>\n",
    "Живи еще хоть четверть века -<br/>\n",
    "Все будет так. Исхода нет.<br/>\n",
    "\n",
    "Умрешь - начнешь опять сначала<br/>\n",
    "И повторится все, как встарь:<br/>\n",
    "Ночь, ледяная рябь канала,<br/>\n",
    "Аптека, улица, фонарь.<br/>\n",
    "\n",
    "Пусть каждая строчка - это будет условный документ. Переведем эти документы в числовое представление по методу мешка слов (Bag Of Words)"
   ]
  },
  {
   "cell_type": "code",
   "execution_count": 10,
   "metadata": {
    "collapsed": true
   },
   "outputs": [],
   "source": [
    "from sklearn.feature_extraction.text import CountVectorizer\n",
    "from sklearn.feature_extraction.text import TfidfVectorizer\n",
    "\n",
    "corpus = \\\n",
    "[u'Ночь, улица, фонарь, аптека,',\n",
    " u'Бессмысленный и тусклый свет.',\n",
    " u'Живи еще хоть четверть века -',\n",
    " u'Все будет так. Исхода нет.',\n",
    " u'Умрешь - начнешь опять сначала',\n",
    " u'И повторится все, как встарь:',\n",
    " u'Ночь, ледяная рябь канала,',\n",
    " u'Аптека, улица, фонарь.']"
   ]
  },
  {
   "cell_type": "code",
   "execution_count": 11,
   "metadata": {},
   "outputs": [
    {
     "data": {
      "text/plain": [
       "(8, 27)"
      ]
     },
     "execution_count": 11,
     "metadata": {},
     "output_type": "execute_result"
    }
   ],
   "source": [
    "vect = CountVectorizer()\n",
    "\n",
    "bow = vect.fit_transform(corpus)\n",
    "bow = bow.toarray()\n",
    "bow.shape"
   ]
  },
  {
   "cell_type": "markdown",
   "metadata": {},
   "source": [
    "Получили матрицу размера $8 \\times 27$, так как у нас 8 строчек и выделилось 27 униальных слов. Элемент матрицы показывает сколько раз слово встречалось в соответствующем документе."
   ]
  },
  {
   "cell_type": "code",
   "execution_count": 12,
   "metadata": {},
   "outputs": [
    {
     "data": {
      "text/plain": [
       "array([[1, 0, 0, 0, 0, 0, 0, 0, 0, 0, 0, 0, 0, 0, 1, 0, 0, 0, 0, 0, 0, 0,\n",
       "        1, 0, 1, 0, 0],\n",
       "       [0, 1, 0, 0, 0, 0, 0, 0, 0, 0, 0, 0, 0, 0, 0, 0, 0, 0, 1, 0, 0, 1,\n",
       "        0, 0, 0, 0, 0],\n",
       "       [0, 0, 0, 1, 0, 0, 1, 1, 0, 0, 0, 0, 0, 0, 0, 0, 0, 0, 0, 0, 0, 0,\n",
       "        0, 0, 0, 1, 1],\n",
       "       [0, 0, 1, 0, 1, 0, 0, 0, 1, 0, 0, 0, 0, 1, 0, 0, 0, 0, 0, 0, 1, 0,\n",
       "        0, 0, 0, 0, 0],\n",
       "       [0, 0, 0, 0, 0, 0, 0, 0, 0, 0, 0, 0, 1, 0, 0, 1, 0, 0, 0, 1, 0, 0,\n",
       "        0, 1, 0, 0, 0],\n",
       "       [0, 0, 0, 0, 1, 1, 0, 0, 0, 1, 0, 0, 0, 0, 0, 0, 1, 0, 0, 0, 0, 0,\n",
       "        0, 0, 0, 0, 0],\n",
       "       [0, 0, 0, 0, 0, 0, 0, 0, 0, 0, 1, 1, 0, 0, 1, 0, 0, 1, 0, 0, 0, 0,\n",
       "        0, 0, 0, 0, 0],\n",
       "       [1, 0, 0, 0, 0, 0, 0, 0, 0, 0, 0, 0, 0, 0, 0, 0, 0, 0, 0, 0, 0, 0,\n",
       "        1, 0, 1, 0, 0]])"
      ]
     },
     "execution_count": 12,
     "metadata": {},
     "output_type": "execute_result"
    }
   ],
   "source": [
    "bow"
   ]
  },
  {
   "cell_type": "code",
   "execution_count": 13,
   "metadata": {},
   "outputs": [
    {
     "name": "stdout",
     "output_type": "stream",
     "text": [
      "столбец 0: аптека\n",
      "столбец 1: бессмысленный\n",
      "столбец 2: будет\n",
      "столбец 3: века\n",
      "столбец 4: все\n",
      "столбец 5: встарь\n",
      "столбец 6: еще\n",
      "столбец 7: живи\n",
      "столбец 8: исхода\n",
      "столбец 9: как\n",
      "столбец 10: канала\n",
      "столбец 11: ледяная\n",
      "столбец 12: начнешь\n",
      "столбец 13: нет\n",
      "столбец 14: ночь\n",
      "столбец 15: опять\n",
      "столбец 16: повторится\n",
      "столбец 17: рябь\n",
      "столбец 18: свет\n",
      "столбец 19: сначала\n",
      "столбец 20: так\n",
      "столбец 21: тусклый\n",
      "столбец 22: улица\n",
      "столбец 23: умрешь\n",
      "столбец 24: фонарь\n",
      "столбец 25: хоть\n",
      "столбец 26: четверть\n"
     ]
    }
   ],
   "source": [
    "# Посмотрим какие слова стоят по столбцам\n",
    "for i, w in enumerate(vect.get_feature_names()):\n",
    "    print u'столбец %d: %s' % (i, w)"
   ]
  },
  {
   "cell_type": "markdown",
   "metadata": {},
   "source": [
    "# Туториал: Имплементация собственного метода"
   ]
  },
  {
   "cell_type": "markdown",
   "metadata": {},
   "source": [
    "Для решения задач вида \"имплементируйте метод X\" крайне желательно (но необязательно) реализовывать методы с помощью интерфейса sklearn. Ниже вы увидите пример очень простого **классификатора**. Используйте эти наработи для выполнения задания."
   ]
  },
  {
   "cell_type": "markdown",
   "metadata": {},
   "source": [
    "Загрузите [датасет](https://archive.ics.uci.edu/ml/machine-learning-databases/wine-quality/winequality-red.csv) с информацией о характеристиках вина и его качестве. (В метод `pd.read_csv()` можно подать веб-ссылку на данные и пандас их скачает и преобразует в `DataFrame`)."
   ]
  },
  {
   "cell_type": "code",
   "execution_count": 14,
   "metadata": {
    "collapsed": true
   },
   "outputs": [],
   "source": [
    "df_wine = pd.read_csv('https://archive.ics.uci.edu/ml/machine-learning-databases/wine-quality/winequality-red.csv', sep=';')"
   ]
  },
  {
   "cell_type": "code",
   "execution_count": 15,
   "metadata": {},
   "outputs": [
    {
     "data": {
      "text/html": [
       "<div>\n",
       "<style>\n",
       "    .dataframe thead tr:only-child th {\n",
       "        text-align: right;\n",
       "    }\n",
       "\n",
       "    .dataframe thead th {\n",
       "        text-align: left;\n",
       "    }\n",
       "\n",
       "    .dataframe tbody tr th {\n",
       "        vertical-align: top;\n",
       "    }\n",
       "</style>\n",
       "<table border=\"1\" class=\"dataframe\">\n",
       "  <thead>\n",
       "    <tr style=\"text-align: right;\">\n",
       "      <th></th>\n",
       "      <th>fixed acidity</th>\n",
       "      <th>volatile acidity</th>\n",
       "      <th>citric acid</th>\n",
       "      <th>residual sugar</th>\n",
       "      <th>chlorides</th>\n",
       "      <th>free sulfur dioxide</th>\n",
       "      <th>total sulfur dioxide</th>\n",
       "      <th>density</th>\n",
       "      <th>pH</th>\n",
       "      <th>sulphates</th>\n",
       "      <th>alcohol</th>\n",
       "      <th>quality</th>\n",
       "    </tr>\n",
       "  </thead>\n",
       "  <tbody>\n",
       "    <tr>\n",
       "      <th>0</th>\n",
       "      <td>7.4</td>\n",
       "      <td>0.70</td>\n",
       "      <td>0.00</td>\n",
       "      <td>1.9</td>\n",
       "      <td>0.076</td>\n",
       "      <td>11.0</td>\n",
       "      <td>34.0</td>\n",
       "      <td>0.9978</td>\n",
       "      <td>3.51</td>\n",
       "      <td>0.56</td>\n",
       "      <td>9.4</td>\n",
       "      <td>5</td>\n",
       "    </tr>\n",
       "    <tr>\n",
       "      <th>1</th>\n",
       "      <td>7.8</td>\n",
       "      <td>0.88</td>\n",
       "      <td>0.00</td>\n",
       "      <td>2.6</td>\n",
       "      <td>0.098</td>\n",
       "      <td>25.0</td>\n",
       "      <td>67.0</td>\n",
       "      <td>0.9968</td>\n",
       "      <td>3.20</td>\n",
       "      <td>0.68</td>\n",
       "      <td>9.8</td>\n",
       "      <td>5</td>\n",
       "    </tr>\n",
       "    <tr>\n",
       "      <th>2</th>\n",
       "      <td>7.8</td>\n",
       "      <td>0.76</td>\n",
       "      <td>0.04</td>\n",
       "      <td>2.3</td>\n",
       "      <td>0.092</td>\n",
       "      <td>15.0</td>\n",
       "      <td>54.0</td>\n",
       "      <td>0.9970</td>\n",
       "      <td>3.26</td>\n",
       "      <td>0.65</td>\n",
       "      <td>9.8</td>\n",
       "      <td>5</td>\n",
       "    </tr>\n",
       "    <tr>\n",
       "      <th>3</th>\n",
       "      <td>11.2</td>\n",
       "      <td>0.28</td>\n",
       "      <td>0.56</td>\n",
       "      <td>1.9</td>\n",
       "      <td>0.075</td>\n",
       "      <td>17.0</td>\n",
       "      <td>60.0</td>\n",
       "      <td>0.9980</td>\n",
       "      <td>3.16</td>\n",
       "      <td>0.58</td>\n",
       "      <td>9.8</td>\n",
       "      <td>6</td>\n",
       "    </tr>\n",
       "    <tr>\n",
       "      <th>4</th>\n",
       "      <td>7.4</td>\n",
       "      <td>0.70</td>\n",
       "      <td>0.00</td>\n",
       "      <td>1.9</td>\n",
       "      <td>0.076</td>\n",
       "      <td>11.0</td>\n",
       "      <td>34.0</td>\n",
       "      <td>0.9978</td>\n",
       "      <td>3.51</td>\n",
       "      <td>0.56</td>\n",
       "      <td>9.4</td>\n",
       "      <td>5</td>\n",
       "    </tr>\n",
       "  </tbody>\n",
       "</table>\n",
       "</div>"
      ],
      "text/plain": [
       "   fixed acidity  volatile acidity  citric acid  residual sugar  chlorides  \\\n",
       "0            7.4              0.70         0.00             1.9      0.076   \n",
       "1            7.8              0.88         0.00             2.6      0.098   \n",
       "2            7.8              0.76         0.04             2.3      0.092   \n",
       "3           11.2              0.28         0.56             1.9      0.075   \n",
       "4            7.4              0.70         0.00             1.9      0.076   \n",
       "\n",
       "   free sulfur dioxide  total sulfur dioxide  density    pH  sulphates  \\\n",
       "0                 11.0                  34.0   0.9978  3.51       0.56   \n",
       "1                 25.0                  67.0   0.9968  3.20       0.68   \n",
       "2                 15.0                  54.0   0.9970  3.26       0.65   \n",
       "3                 17.0                  60.0   0.9980  3.16       0.58   \n",
       "4                 11.0                  34.0   0.9978  3.51       0.56   \n",
       "\n",
       "   alcohol  quality  \n",
       "0      9.4        5  \n",
       "1      9.8        5  \n",
       "2      9.8        5  \n",
       "3      9.8        6  \n",
       "4      9.4        5  "
      ]
     },
     "execution_count": 15,
     "metadata": {},
     "output_type": "execute_result"
    }
   ],
   "source": [
    "df_wine.head()"
   ]
  },
  {
   "cell_type": "markdown",
   "metadata": {},
   "source": [
    "Наша задача состоит в предсказании целевого признака `quality` по остальным признакам. `quality` - это вещественная переменная (оценка качества от 0 до 10). Упростим себе задачу - создадим новый столбец `quality_cat` по следующим правилам:\n",
    "\n",
    "* `quality_cat = 1` если `quality > 5` \n",
    "* `quality_cat = 0` - иначе \n",
    "\n",
    "Таким образом, `quality_cat` характерует \"плохое\" и \"хорошее\" вино."
   ]
  },
  {
   "cell_type": "code",
   "execution_count": 16,
   "metadata": {
    "collapsed": true
   },
   "outputs": [],
   "source": [
    "def prepocess_wine(df):\n",
    "    df.loc[:, 'quality_cat'] = (df.loc[:, 'quality'] > 5).astype(int)\n",
    "    df = df.drop('quality', axis=1)\n",
    "    \n",
    "    return df"
   ]
  },
  {
   "cell_type": "code",
   "execution_count": 17,
   "metadata": {},
   "outputs": [
    {
     "data": {
      "text/html": [
       "<div>\n",
       "<style>\n",
       "    .dataframe thead tr:only-child th {\n",
       "        text-align: right;\n",
       "    }\n",
       "\n",
       "    .dataframe thead th {\n",
       "        text-align: left;\n",
       "    }\n",
       "\n",
       "    .dataframe tbody tr th {\n",
       "        vertical-align: top;\n",
       "    }\n",
       "</style>\n",
       "<table border=\"1\" class=\"dataframe\">\n",
       "  <thead>\n",
       "    <tr style=\"text-align: right;\">\n",
       "      <th></th>\n",
       "      <th>fixed acidity</th>\n",
       "      <th>volatile acidity</th>\n",
       "      <th>citric acid</th>\n",
       "      <th>residual sugar</th>\n",
       "      <th>chlorides</th>\n",
       "      <th>free sulfur dioxide</th>\n",
       "      <th>total sulfur dioxide</th>\n",
       "      <th>density</th>\n",
       "      <th>pH</th>\n",
       "      <th>sulphates</th>\n",
       "      <th>alcohol</th>\n",
       "      <th>quality_cat</th>\n",
       "    </tr>\n",
       "  </thead>\n",
       "  <tbody>\n",
       "    <tr>\n",
       "      <th>0</th>\n",
       "      <td>7.4</td>\n",
       "      <td>0.70</td>\n",
       "      <td>0.00</td>\n",
       "      <td>1.9</td>\n",
       "      <td>0.076</td>\n",
       "      <td>11.0</td>\n",
       "      <td>34.0</td>\n",
       "      <td>0.9978</td>\n",
       "      <td>3.51</td>\n",
       "      <td>0.56</td>\n",
       "      <td>9.4</td>\n",
       "      <td>0</td>\n",
       "    </tr>\n",
       "    <tr>\n",
       "      <th>1</th>\n",
       "      <td>7.8</td>\n",
       "      <td>0.88</td>\n",
       "      <td>0.00</td>\n",
       "      <td>2.6</td>\n",
       "      <td>0.098</td>\n",
       "      <td>25.0</td>\n",
       "      <td>67.0</td>\n",
       "      <td>0.9968</td>\n",
       "      <td>3.20</td>\n",
       "      <td>0.68</td>\n",
       "      <td>9.8</td>\n",
       "      <td>0</td>\n",
       "    </tr>\n",
       "    <tr>\n",
       "      <th>2</th>\n",
       "      <td>7.8</td>\n",
       "      <td>0.76</td>\n",
       "      <td>0.04</td>\n",
       "      <td>2.3</td>\n",
       "      <td>0.092</td>\n",
       "      <td>15.0</td>\n",
       "      <td>54.0</td>\n",
       "      <td>0.9970</td>\n",
       "      <td>3.26</td>\n",
       "      <td>0.65</td>\n",
       "      <td>9.8</td>\n",
       "      <td>0</td>\n",
       "    </tr>\n",
       "    <tr>\n",
       "      <th>3</th>\n",
       "      <td>11.2</td>\n",
       "      <td>0.28</td>\n",
       "      <td>0.56</td>\n",
       "      <td>1.9</td>\n",
       "      <td>0.075</td>\n",
       "      <td>17.0</td>\n",
       "      <td>60.0</td>\n",
       "      <td>0.9980</td>\n",
       "      <td>3.16</td>\n",
       "      <td>0.58</td>\n",
       "      <td>9.8</td>\n",
       "      <td>1</td>\n",
       "    </tr>\n",
       "    <tr>\n",
       "      <th>4</th>\n",
       "      <td>7.4</td>\n",
       "      <td>0.70</td>\n",
       "      <td>0.00</td>\n",
       "      <td>1.9</td>\n",
       "      <td>0.076</td>\n",
       "      <td>11.0</td>\n",
       "      <td>34.0</td>\n",
       "      <td>0.9978</td>\n",
       "      <td>3.51</td>\n",
       "      <td>0.56</td>\n",
       "      <td>9.4</td>\n",
       "      <td>0</td>\n",
       "    </tr>\n",
       "  </tbody>\n",
       "</table>\n",
       "</div>"
      ],
      "text/plain": [
       "   fixed acidity  volatile acidity  citric acid  residual sugar  chlorides  \\\n",
       "0            7.4              0.70         0.00             1.9      0.076   \n",
       "1            7.8              0.88         0.00             2.6      0.098   \n",
       "2            7.8              0.76         0.04             2.3      0.092   \n",
       "3           11.2              0.28         0.56             1.9      0.075   \n",
       "4            7.4              0.70         0.00             1.9      0.076   \n",
       "\n",
       "   free sulfur dioxide  total sulfur dioxide  density    pH  sulphates  \\\n",
       "0                 11.0                  34.0   0.9978  3.51       0.56   \n",
       "1                 25.0                  67.0   0.9968  3.20       0.68   \n",
       "2                 15.0                  54.0   0.9970  3.26       0.65   \n",
       "3                 17.0                  60.0   0.9980  3.16       0.58   \n",
       "4                 11.0                  34.0   0.9978  3.51       0.56   \n",
       "\n",
       "   alcohol  quality_cat  \n",
       "0      9.4            0  \n",
       "1      9.8            0  \n",
       "2      9.8            0  \n",
       "3      9.8            1  \n",
       "4      9.4            0  "
      ]
     },
     "execution_count": 17,
     "metadata": {},
     "output_type": "execute_result"
    }
   ],
   "source": [
    "df_wine = df_wine.pipe(prepocess_wine)\n",
    "df_wine.head()"
   ]
  },
  {
   "cell_type": "markdown",
   "metadata": {},
   "source": [
    "Нарисуем распределение хорошего и плохого вина по признаку `alcohol`."
   ]
  },
  {
   "cell_type": "code",
   "execution_count": 18,
   "metadata": {},
   "outputs": [
    {
     "data": {
      "text/plain": [
       "<matplotlib.legend.Legend at 0x7f909b0f7a10>"
      ]
     },
     "execution_count": 18,
     "metadata": {},
     "output_type": "execute_result"
    },
    {
     "data": {
      "image/png": "[encoded data removed]",
      "text/plain": [
       "<matplotlib.figure.Figure at 0x7f90a255a090>"
      ]
     },
     "metadata": {},
     "output_type": "display_data"
    }
   ],
   "source": [
    "_, ax = plt.subplots(1,1)\n",
    "df_wine.query('quality_cat == 1').hist('alcohol', alpha=0.3, bins=20, label='good', ax=ax)\n",
    "df_wine.query('quality_cat == 0').hist('alcohol', alpha=0.3, bins=20, label='bad', ax=ax)\n",
    "ax.set_xlabel('alcohol')\n",
    "ax.set_ylabel('count')\n",
    "plt.legend()"
   ]
  },
  {
   "cell_type": "markdown",
   "metadata": {},
   "source": [
    "Визуально кажется, что можно найти некоторое пороговое значение признака `alcohol` $\\theta$, чтобы хорошо дискриминировать между плохими и хорошим вином:\n",
    "* Если `alcohol >` $\\theta$ - то предсказываем, что вино хорошее\n",
    "* Если `alcohol <=` $\\theta$ - то предсказываем, что вино плохое\n",
    "\n",
    "Обучаеть классификатор будем очень просто: перебирать значения признака alchol и считать **ошибку** классификации. То значение, где ошибка минимальна и будет оптимальным.\n",
    "\n",
    "Разделим целевой признак от остальных признаков"
   ]
  },
  {
   "cell_type": "code",
   "execution_count": 19,
   "metadata": {
    "collapsed": true
   },
   "outputs": [],
   "source": [
    "X, y = df_wine.iloc[:, :-1].values, df_wine.iloc[:, -1].values"
   ]
  },
  {
   "cell_type": "markdown",
   "metadata": {},
   "source": [
    "Далее вы увидете пример реализации этого простого классификатора."
   ]
  },
  {
   "cell_type": "code",
   "execution_count": 20,
   "metadata": {
    "collapsed": true
   },
   "outputs": [],
   "source": [
    "from sklearn.base import BaseEstimator, ClassifierMixin\n",
    "\n",
    "class SimpleClassifier(BaseEstimator, ClassifierMixin): \n",
    "    \n",
    "    def __init__(self):\n",
    "        \"\"\"\n",
    "        Инициализация метода\n",
    "        \"\"\"\n",
    "        \n",
    "        self.threshold = 0\n",
    "\n",
    "    def fit(self, X, y=None):\n",
    "        \"\"\"\n",
    "        Выполняет процедуру обучения классификатора. В данном случае - перебор занчения признака alcohol.\n",
    "        Договоримся, что признак alcohol будет в последнем столбце матрицы X\n",
    "        \"\"\"\n",
    "        \n",
    "        alcohol = X[:,-1]\n",
    "        n = float(y.shape[0])\n",
    "        \n",
    "        # Задаем пространство поиска\n",
    "        alco_range = np.arange(alcohol.min(), alcohol.max(), 0.1)\n",
    "        \n",
    "        min_error_rate = 1\n",
    "                \n",
    "        #  Начинаем поиск\n",
    "        for theta in alco_range:\n",
    "            prediction = alcohol > theta\n",
    "            \n",
    "            error_rate = sum(prediction != y)/n\n",
    "            \n",
    "            if error_rate < min_error_rate:\n",
    "                min_error_rate = error_rate\n",
    "                self.threshold = theta  \n",
    "        \n",
    "        return self\n",
    "\n",
    "    def predict(self, X, y=None):\n",
    "        \"\"\"\n",
    "        Процедура предсказания класса по обученному порогу\n",
    "        \"\"\"\n",
    "        \n",
    "        return (X[:,-1] > self.threshold).astype(int)"
   ]
  },
  {
   "cell_type": "markdown",
   "metadata": {},
   "source": [
    "Обучаем модель"
   ]
  },
  {
   "cell_type": "code",
   "execution_count": 21,
   "metadata": {},
   "outputs": [
    {
     "name": "stdout",
     "output_type": "stream",
     "text": [
      "Оптимальный порог: 10.000000\n"
     ]
    }
   ],
   "source": [
    "model = SimpleClassifier()\n",
    "model.fit(X, y)\n",
    "\n",
    "print 'Оптимальный порог: %f' % model.threshold"
   ]
  },
  {
   "cell_type": "markdown",
   "metadata": {},
   "source": [
    "Получаем предсказание модели (на обучающей выборке)"
   ]
  },
  {
   "cell_type": "code",
   "execution_count": 22,
   "metadata": {
    "collapsed": true
   },
   "outputs": [],
   "source": [
    "y_hat = model.predict(X)"
   ]
  },
  {
   "cell_type": "markdown",
   "metadata": {},
   "source": [
    "Оценим долю ошибок на обучающей выборке"
   ]
  },
  {
   "cell_type": "code",
   "execution_count": 23,
   "metadata": {},
   "outputs": [
    {
     "name": "stdout",
     "output_type": "stream",
     "text": [
      "Доля ошибок на обучающей выборке: 0.295184\n"
     ]
    }
   ],
   "source": [
    "error_rate = sum(y_hat != y)/float(y.shape[0])\n",
    "print 'Доля ошибок на обучающей выборке: %f' % error_rate"
   ]
  },
  {
   "cell_type": "markdown",
   "metadata": {},
   "source": [
    "## Проверка метода на контрольной выборке\n",
    "\n",
    "Мы обучили наш метод на данных о красном виде. \n",
    "\n",
    "Посмотрим, выполняется ли так же хорошо закономерность между качеством и уровнем алкоголя в белом вине."
   ]
  },
  {
   "cell_type": "code",
   "execution_count": 24,
   "metadata": {},
   "outputs": [
    {
     "data": {
      "text/html": [
       "<div>\n",
       "<style>\n",
       "    .dataframe thead tr:only-child th {\n",
       "        text-align: right;\n",
       "    }\n",
       "\n",
       "    .dataframe thead th {\n",
       "        text-align: left;\n",
       "    }\n",
       "\n",
       "    .dataframe tbody tr th {\n",
       "        vertical-align: top;\n",
       "    }\n",
       "</style>\n",
       "<table border=\"1\" class=\"dataframe\">\n",
       "  <thead>\n",
       "    <tr style=\"text-align: right;\">\n",
       "      <th></th>\n",
       "      <th>fixed acidity</th>\n",
       "      <th>volatile acidity</th>\n",
       "      <th>citric acid</th>\n",
       "      <th>residual sugar</th>\n",
       "      <th>chlorides</th>\n",
       "      <th>free sulfur dioxide</th>\n",
       "      <th>total sulfur dioxide</th>\n",
       "      <th>density</th>\n",
       "      <th>pH</th>\n",
       "      <th>sulphates</th>\n",
       "      <th>alcohol</th>\n",
       "      <th>quality_cat</th>\n",
       "    </tr>\n",
       "  </thead>\n",
       "  <tbody>\n",
       "    <tr>\n",
       "      <th>0</th>\n",
       "      <td>7.0</td>\n",
       "      <td>0.27</td>\n",
       "      <td>0.36</td>\n",
       "      <td>20.7</td>\n",
       "      <td>0.045</td>\n",
       "      <td>45.0</td>\n",
       "      <td>170.0</td>\n",
       "      <td>1.0010</td>\n",
       "      <td>3.00</td>\n",
       "      <td>0.45</td>\n",
       "      <td>8.8</td>\n",
       "      <td>1</td>\n",
       "    </tr>\n",
       "    <tr>\n",
       "      <th>1</th>\n",
       "      <td>6.3</td>\n",
       "      <td>0.30</td>\n",
       "      <td>0.34</td>\n",
       "      <td>1.6</td>\n",
       "      <td>0.049</td>\n",
       "      <td>14.0</td>\n",
       "      <td>132.0</td>\n",
       "      <td>0.9940</td>\n",
       "      <td>3.30</td>\n",
       "      <td>0.49</td>\n",
       "      <td>9.5</td>\n",
       "      <td>1</td>\n",
       "    </tr>\n",
       "    <tr>\n",
       "      <th>2</th>\n",
       "      <td>8.1</td>\n",
       "      <td>0.28</td>\n",
       "      <td>0.40</td>\n",
       "      <td>6.9</td>\n",
       "      <td>0.050</td>\n",
       "      <td>30.0</td>\n",
       "      <td>97.0</td>\n",
       "      <td>0.9951</td>\n",
       "      <td>3.26</td>\n",
       "      <td>0.44</td>\n",
       "      <td>10.1</td>\n",
       "      <td>1</td>\n",
       "    </tr>\n",
       "    <tr>\n",
       "      <th>3</th>\n",
       "      <td>7.2</td>\n",
       "      <td>0.23</td>\n",
       "      <td>0.32</td>\n",
       "      <td>8.5</td>\n",
       "      <td>0.058</td>\n",
       "      <td>47.0</td>\n",
       "      <td>186.0</td>\n",
       "      <td>0.9956</td>\n",
       "      <td>3.19</td>\n",
       "      <td>0.40</td>\n",
       "      <td>9.9</td>\n",
       "      <td>1</td>\n",
       "    </tr>\n",
       "    <tr>\n",
       "      <th>4</th>\n",
       "      <td>7.2</td>\n",
       "      <td>0.23</td>\n",
       "      <td>0.32</td>\n",
       "      <td>8.5</td>\n",
       "      <td>0.058</td>\n",
       "      <td>47.0</td>\n",
       "      <td>186.0</td>\n",
       "      <td>0.9956</td>\n",
       "      <td>3.19</td>\n",
       "      <td>0.40</td>\n",
       "      <td>9.9</td>\n",
       "      <td>1</td>\n",
       "    </tr>\n",
       "  </tbody>\n",
       "</table>\n",
       "</div>"
      ],
      "text/plain": [
       "   fixed acidity  volatile acidity  citric acid  residual sugar  chlorides  \\\n",
       "0            7.0              0.27         0.36            20.7      0.045   \n",
       "1            6.3              0.30         0.34             1.6      0.049   \n",
       "2            8.1              0.28         0.40             6.9      0.050   \n",
       "3            7.2              0.23         0.32             8.5      0.058   \n",
       "4            7.2              0.23         0.32             8.5      0.058   \n",
       "\n",
       "   free sulfur dioxide  total sulfur dioxide  density    pH  sulphates  \\\n",
       "0                 45.0                 170.0   1.0010  3.00       0.45   \n",
       "1                 14.0                 132.0   0.9940  3.30       0.49   \n",
       "2                 30.0                  97.0   0.9951  3.26       0.44   \n",
       "3                 47.0                 186.0   0.9956  3.19       0.40   \n",
       "4                 47.0                 186.0   0.9956  3.19       0.40   \n",
       "\n",
       "   alcohol  quality_cat  \n",
       "0      8.8            1  \n",
       "1      9.5            1  \n",
       "2     10.1            1  \n",
       "3      9.9            1  \n",
       "4      9.9            1  "
      ]
     },
     "execution_count": 24,
     "metadata": {},
     "output_type": "execute_result"
    }
   ],
   "source": [
    "df_wine_test = pd.read_csv('https://archive.ics.uci.edu/ml/machine-learning-databases/wine-quality/winequality-white.csv',\n",
    "                           sep=';')\n",
    "\n",
    "df_wine_test = df_wine_test.pipe(prepocess_wine)\n",
    "df_wine_test.head()"
   ]
  },
  {
   "cell_type": "code",
   "execution_count": 25,
   "metadata": {
    "collapsed": true
   },
   "outputs": [],
   "source": [
    "X_test, y_test = df_wine_test.iloc[:, :-1].values, df_wine_test.iloc[:, -1].values\n",
    "y_hat = model.predict(X_test)"
   ]
  },
  {
   "cell_type": "code",
   "execution_count": 26,
   "metadata": {},
   "outputs": [
    {
     "name": "stdout",
     "output_type": "stream",
     "text": [
      "Доля ошибок на контрольной выборке: 0.312577\n"
     ]
    }
   ],
   "source": [
    "error_rate = sum(y_hat != y_test)/float(y_test.shape[0])\n",
    "print 'Доля ошибок на контрольной выборке: %f' % error_rate"
   ]
  },
  {
   "cell_type": "markdown",
   "metadata": {},
   "source": [
    "Получилось неплохо и это лишь наивный алгоритм на одном признаке! Ну а выводы делайте сами =)"
   ]
  },
  {
   "cell_type": "markdown",
   "metadata": {},
   "source": [
    "# Имплементация K-means\n",
    "\n",
    "Пользуясь наработками выше, имплементируйте метод k-means.  \n",
    "При инициализации необходимо задавать количество кластеров, функцию расстояния между кластерами (для оригинального k-means - евклидово расстояние) и начальное состояние генератора случайных чисел.\n",
    "\n",
    "После обучения, среди атрибутов класса `Kmeans` должны появится\n",
    "* Метки кластеров для объектов\n",
    "* Координаты центройдов кластеров\n",
    "\n",
    "k-means - это алгоритм **кластеризации**, а не классификации, а посему метод `.predict()` в нем фактически не нужен, но он может возвращать метки ближайшего кластера для объектов."
   ]
  },
  {
   "cell_type": "markdown",
   "metadata": {},
   "source": [
    "###### Задание 1 (2 баллов)\n",
    "Имплементируйте метод k-means\n",
    "\n",
    "Теория для выполнения задания 2 и 3 остаётся на самостоятельное изучение. Теории немного и она совсем простая.\n",
    "\n",
    "###### Задание 2 (2 балла)\n",
    "Имплементируйте класс MiniBatchKMeans, который является классом наследником Kmeans.\n",
    "\n",
    "###### Задание 3 (2 балла)\n",
    "Превратите k-means в k-means++. Для этого нужно реализовать метод в классе Kmeans, который будет инициализировать более \"хорошие\" значения центроидов. Чтобы использовался метод k-means++, в параметр init необходимо передать строковое значение 'k-means' (по умолчанию 'random').\n",
    "\n",
    "###### Задание 4 (2 балла)\n",
    "В пункте \"Проверка корректности метода\" нужно нарисовать графики, которые показывают зависимость времени выполнения алгоритма от количества сэмплов. Графики должны быть  нарисованы для различных комбинаций реализаций алгоритма (k-means, k-means++, k-means с MiniBatchKMeans, k-means++ с MiniBatchKMeans). Для этого рекомендуется использовать инструмент %timeit. График достаточно построить на 5-10 точках.\n",
    "\n",
    "###### Задание 5 (2 балла)\n",
    "В пункте \"Применение K-means на реальных данных\" нужно сравнить различные реализации k-means (k-means, k-means++, k-means с MiniBatchKMeans, k-means++ с MiniBatchKMeans). После чего написать вывод, в котором должно быть объяснение того, почему один алгоритм оказался лучше остальных или почему не было выявлено лучшего алгоритма."
   ]
  },
  {
   "cell_type": "code",
   "execution_count": 131,
   "metadata": {},
   "outputs": [],
   "source": [
    "from sklearn.base import ClusterMixin\n",
    "import sklearn.neighbors\n",
    "import scipy as sp\n",
    "\n",
    "class Kmeans(BaseEstimator, ClusterMixin): \n",
    "    \n",
    "    def __init__(self, k=2, metric='euclidean', max_iter=1000, random_state=None, init='random'):\n",
    "        \"\"\"\n",
    "        Инициализация метода\n",
    "        :k - количество кластеров\n",
    "        :metric - функция расстояния между объектами\n",
    "        :max_iter - максиальное количество итераций\n",
    "        :random_state - seed для инициализации генератора случайных чисел\n",
    "        \"\"\"\n",
    "        \n",
    "        self.k = k\n",
    "        self.random_state = random_state\n",
    "        self.metric = metric\n",
    "        self.max_iter = max_iter\n",
    "        self.init = init\n",
    "        self.metric = DistanceMetric.get_metric(metric)\n",
    "        \n",
    "    def weighted_rand(self, choices):\n",
    "        total = sum(choices)\n",
    "        r = np.random.uniform(0, total)\n",
    "        upto = 0\n",
    "        for i in xrange(choices.shape[0]):\n",
    "            if upto + choices[i] >= r:\n",
    "                return i\n",
    "            upto += choices[i]\n",
    "    \n",
    "    def init_centroids(self, X):\n",
    "        \n",
    "        if(self.init == 'random'):\n",
    "            \n",
    "            for i in xrange(self.k):\n",
    "                self.centroids[i] = X[np.random.randint(X.shape[0])]\n",
    "                \n",
    "        else:\n",
    "            \n",
    "            self.centroids[0] = X[np.random.randint(X.shape[0])]\n",
    "            \n",
    "            for i in xrange(1, self.k):\n",
    "                Y = self.metric.pairwise(self.centroids[:i], X)\n",
    "                dist_mins = np.min(Y, axis = 0)\n",
    "                \n",
    "                self.centroids[i] = X[self.weighted_rand(dist_mins)]\n",
    "                \n",
    "\n",
    "    def fit(self, X, y=None):\n",
    "        \"\"\"\n",
    "        Процедура обучения k-means\n",
    "        \"\"\"\n",
    "        \n",
    "        # Инициализация генератора случайных чисел\n",
    "        np.random.seed(self.random_state)\n",
    "        \n",
    "        # Массив с метками кластеров для каждого объекта из X\n",
    "        self.labels = np.empty(X.shape[0])\n",
    "        \n",
    "        # Массив с центройдами кластеров\n",
    "        self.centroids = np.empty((self.k, X.shape[1]))\n",
    "        \n",
    "        self.init_centroids(X)\n",
    "        \n",
    "        for i in xrange(self.max_iter):\n",
    "            Y = self.metric.pairwise(self.centroids, X)\n",
    "\n",
    "            self.labels = np.argmin(Y, axis = 0)\n",
    "            \n",
    "            for j in xrange(self.k):\n",
    "                self.centroids[j] = sum(X[self.labels == j])/len(X[self.labels == j])\n",
    "        \n",
    "        return self\n",
    "\n",
    "    def predict(self, X, y=None):\n",
    "        \"\"\"\n",
    "        Процедура предсказания кластера\n",
    "        \n",
    "        Возвращает метку ближайшего кластера для каждого объекта\n",
    "        \"\"\"\n",
    "        \n",
    "        Y = self.metric.pairwise(self.centroids, X)\n",
    "        \n",
    "        return np.argmin(Y, axis = 0)\n",
    "\n",
    "class MiniBatchKMeans(Kmeans):\n",
    "    \n",
    "    def __init__(self, minibatch_percent = 0.1, k=2, metric='euclidean', max_iter=1000, random_state=None, init='random'):\n",
    "        self.minibatch_percent = minibatch_percent\n",
    "        Kmeans.__init__(self, k, metric, max_iter, random_state, init)\n",
    "        \n",
    "    def fit(self, X, y=None):\n",
    "        \n",
    "        # Инициализация генератора случайных чисел\n",
    "        np.random.seed(self.random_state)\n",
    "        \n",
    "        # Подсчет размера минибатча\n",
    "        batch_size = int(self.minibatch_percent * X.shape[0])\n",
    "        \n",
    "        # Массив с метками кластеров для каждого объекта из batch\n",
    "        self.labels = np.empty(batch_size)\n",
    "        \n",
    "        # Массив с центройдами кластеров\n",
    "        self.centroids = np.empty((self.k, X.shape[1]))\n",
    "        \n",
    "        self.init_centroids(X)\n",
    "        \n",
    "        count_c = np.zeros(shape=(self.k))\n",
    "        \n",
    "        for i in xrange(self.max_iter):\n",
    "            batch = X[np.random.randint(X.shape[0], size = batch_size)]\n",
    "            \n",
    "            Y = self.metric.pairwise(self.centroids, batch)\n",
    "\n",
    "            self.labels = np.argmin(Y, axis = 0)\n",
    "            \n",
    "            for j in xrange(batch_size):\n",
    "                n = self.labels[j]\n",
    "                count_c[n] = count_c[n] + 1\n",
    "                coeff = 1/count_c[n]\n",
    "                self.centroids[n] = (1 - coeff)*self.centroids[n] + coeff*batch[j]\n",
    "        \n",
    "        return self\n",
    "            "
   ]
  },
  {
   "cell_type": "markdown",
   "metadata": {},
   "source": [
    "### Проверка корректности метода\n",
    "\n",
    "Перед тем как применять алгоритм на реальных данных, нужно испытать его на простых \"игрушечных\" данных.\n",
    "\n",
    "Если алгоритм реализован правильно, то метод должен идеально разбивать на 3 кластера данные ниже. Проверьте это.\n",
    "\n",
    "ВНИМАНИЕ! Проверка должна быть осуществлена на всех реализациях, иначе реализация не будет зачтена!"
   ]
  },
  {
   "cell_type": "code",
   "execution_count": 28,
   "metadata": {
    "collapsed": true
   },
   "outputs": [],
   "source": [
    "from sklearn.datasets import make_blobs"
   ]
  },
  {
   "cell_type": "code",
   "execution_count": 261,
   "metadata": {
    "collapsed": true
   },
   "outputs": [],
   "source": [
    "X, y = make_blobs(n_samples=100, n_features=2, centers=3, cluster_std=1, \n",
    "           center_box=(-10.0, 10.0), shuffle=False, random_state=1234)"
   ]
  },
  {
   "cell_type": "code",
   "execution_count": 262,
   "metadata": {},
   "outputs": [
    {
     "data": {
      "text/plain": [
       "<matplotlib.collections.PathCollection at 0x7f9092bc6510>"
      ]
     },
     "execution_count": 262,
     "metadata": {},
     "output_type": "execute_result"
    },
    {
     "data": {
      "image/png": "[encoded data removed]",
      "text/plain": [
       "<matplotlib.figure.Figure at 0x7f9092d653d0>"
      ]
     },
     "metadata": {},
     "output_type": "display_data"
    }
   ],
   "source": [
    "plt.scatter(X[:,0], X[:, 1], c=y)"
   ]
  },
  {
   "cell_type": "markdown",
   "metadata": {},
   "source": [
    "Проверьте Вашу имплементацию на простых данных (без этого пункта задание не считается выполненным).   \n",
    "КОММЕНТАРИИ НЕ СТИРАТЬ!"
   ]
  },
  {
   "cell_type": "code",
   "execution_count": 264,
   "metadata": {},
   "outputs": [
    {
     "data": {
      "text/plain": [
       "<matplotlib.collections.PathCollection at 0x7f9092a53050>"
      ]
     },
     "execution_count": 264,
     "metadata": {},
     "output_type": "execute_result"
    },
    {
     "data": {
      "image/png": "[encoded data removed]",
      "text/plain": [
       "<matplotlib.figure.Figure at 0x7f9092ca33d0>"
      ]
     },
     "metadata": {},
     "output_type": "display_data"
    }
   ],
   "source": [
    "## Работоспособность KMeans\n",
    "kmeans = Kmeans(k = 3, random_state=2)\n",
    "kmeans.fit(X)\n",
    "plt.scatter(X[:,0], X[:, 1], c=kmeans.predict(X))"
   ]
  },
  {
   "cell_type": "code",
   "execution_count": 204,
   "metadata": {},
   "outputs": [
    {
     "data": {
      "text/plain": [
       "<matplotlib.collections.PathCollection at 0x7f909365fd50>"
      ]
     },
     "execution_count": 204,
     "metadata": {},
     "output_type": "execute_result"
    },
    {
     "data": {
      "image/png": "[encoded data removed]",
      "text/plain": [
       "<matplotlib.figure.Figure at 0x7f90938465d0>"
      ]
     },
     "metadata": {},
     "output_type": "display_data"
    }
   ],
   "source": [
    "## Работоспособность KMeans++\n",
    "kmeans_pp = Kmeans(k = 3, init='k-means', random_state=2)\n",
    "kmeans_pp.fit(X)\n",
    "plt.scatter(X[:,0], X[:, 1], c=kmeans_pp.predict(X))"
   ]
  },
  {
   "cell_type": "code",
   "execution_count": 205,
   "metadata": {},
   "outputs": [
    {
     "data": {
      "text/plain": [
       "<matplotlib.collections.PathCollection at 0x7f9093538790>"
      ]
     },
     "execution_count": 205,
     "metadata": {},
     "output_type": "execute_result"
    },
    {
     "data": {
      "image/png": "[encoded data removed]",
      "text/plain": [
       "<matplotlib.figure.Figure at 0x7f909362d790>"
      ]
     },
     "metadata": {},
     "output_type": "display_data"
    }
   ],
   "source": [
    "## Работоспособность KMeans с MiniBatchKMeans\n",
    "minibatch = MiniBatchKMeans(k = 3, random_state=2)\n",
    "minibatch.fit(X)\n",
    "plt.scatter(X[:,0], X[:, 1], c=minibatch.predict(X))"
   ]
  },
  {
   "cell_type": "code",
   "execution_count": 206,
   "metadata": {},
   "outputs": [
    {
     "data": {
      "text/plain": [
       "<matplotlib.collections.PathCollection at 0x7f909348e290>"
      ]
     },
     "execution_count": 206,
     "metadata": {},
     "output_type": "execute_result"
    },
    {
     "data": {
      "image/png": "[encoded data removed]",
      "text/plain": [
       "<matplotlib.figure.Figure at 0x7f90934fae90>"
      ]
     },
     "metadata": {},
     "output_type": "display_data"
    }
   ],
   "source": [
    "## Работоспособность KMeans++ с MiniBatchKMeans\n",
    "minibatch_pp = MiniBatchKMeans(k = 3, init='k-means', random_state=2)\n",
    "minibatch_pp.fit(X)\n",
    "plt.scatter(X[:,0], X[:, 1], c=minibatch_pp.predict(X))"
   ]
  },
  {
   "cell_type": "code",
   "execution_count": 289,
   "metadata": {},
   "outputs": [
    {
     "name": "stdout",
     "output_type": "stream",
     "text": [
      "10 loops, best of 3: 112 ms per loop\n",
      "10 loops, best of 3: 123 ms per loop\n",
      "10 loops, best of 3: 131 ms per loop\n",
      "10 loops, best of 3: 143 ms per loop\n",
      "10 loops, best of 3: 152 ms per loop\n",
      "10 loops, best of 3: 161 ms per loop\n",
      "1 loop, best of 3: 181 ms per loop\n",
      "10 loops, best of 3: 186 ms per loop\n",
      "10 loops, best of 3: 190 ms per loop\n",
      "1 loop, best of 3: 241 ms per loop\n"
     ]
    },
    {
     "data": {
      "image/png": "[encoded data removed]",
      "text/plain": [
       "<matplotlib.figure.Figure at 0x7f909254e310>"
      ]
     },
     "metadata": {},
     "output_type": "display_data"
    }
   ],
   "source": [
    "## Время выполнения алгоритма KMeans\n",
    "times = np.empty(10)\n",
    "kmeans = Kmeans(k = 3, random_state=4)\n",
    "for i in xrange(10):\n",
    "    X, y = make_blobs(n_samples=(i + 1)*10, n_features=2, centers=3, cluster_std=1, \n",
    "                      center_box=(-10.0, 10.0), shuffle=False, random_state=1234)\n",
    "    time = %timeit -o kmeans.fit(X)\n",
    "    times[i] = time.best\n",
    "\n",
    "times = times*1000\n",
    "plt.plot([10, 20, 30, 40, 50, 60, 70, 80, 90, 100], times)\n",
    "plt.ylabel('ms')\n",
    "plt.xlabel('samples')\n",
    "plt.axis([10, 100, min(times), max(times)])\n",
    "plt.show()"
   ]
  },
  {
   "cell_type": "code",
   "execution_count": 294,
   "metadata": {},
   "outputs": [
    {
     "name": "stdout",
     "output_type": "stream",
     "text": [
      "10 loops, best of 3: 116 ms per loop\n",
      "10 loops, best of 3: 126 ms per loop\n",
      "10 loops, best of 3: 135 ms per loop\n",
      "10 loops, best of 3: 145 ms per loop\n",
      "10 loops, best of 3: 154 ms per loop\n",
      "10 loops, best of 3: 163 ms per loop\n",
      "10 loops, best of 3: 174 ms per loop\n",
      "10 loops, best of 3: 185 ms per loop\n",
      "1 loop, best of 3: 192 ms per loop\n",
      "1 loop, best of 3: 201 ms per loop\n"
     ]
    },
    {
     "data": {
      "image/png": "[encoded data removed]",
      "text/plain": [
       "<matplotlib.figure.Figure at 0x7f9091e30710>"
      ]
     },
     "metadata": {},
     "output_type": "display_data"
    }
   ],
   "source": [
    "## Время выполнения алгоритма KMeans++\n",
    "times = np.empty(10)\n",
    "kmeans_pp = Kmeans(k = 3, random_state=4, init='k-means')\n",
    "for i in xrange(10):\n",
    "    X, y = make_blobs(n_samples=(i + 1)*10, n_features=2, centers=3, cluster_std=1, \n",
    "                      center_box=(-10.0, 10.0), shuffle=False, random_state=1234)\n",
    "    time = %timeit -o kmeans_pp.fit(X)\n",
    "    times[i] = time.best\n",
    "\n",
    "times = times*1000\n",
    "plt.plot([10, 20, 30, 40, 50, 60, 70, 80, 90, 100], times)\n",
    "plt.ylabel('ms')\n",
    "plt.xlabel('samples')\n",
    "plt.axis([10, 100, min(times), max(times)])\n",
    "plt.show()"
   ]
  },
  {
   "cell_type": "code",
   "execution_count": 295,
   "metadata": {},
   "outputs": [
    {
     "name": "stdout",
     "output_type": "stream",
     "text": [
      "10 loops, best of 3: 114 ms per loop\n",
      "10 loops, best of 3: 125 ms per loop\n",
      "10 loops, best of 3: 146 ms per loop\n",
      "10 loops, best of 3: 151 ms per loop\n",
      "10 loops, best of 3: 155 ms per loop\n",
      "10 loops, best of 3: 164 ms per loop\n",
      "10 loops, best of 3: 175 ms per loop\n",
      "10 loops, best of 3: 188 ms per loop\n",
      "10 loops, best of 3: 190 ms per loop\n",
      "10 loops, best of 3: 198 ms per loop\n"
     ]
    },
    {
     "data": {
      "image/png": "[encoded data removed]",
      "text/plain": [
       "<matplotlib.figure.Figure at 0x7f9091c75dd0>"
      ]
     },
     "metadata": {},
     "output_type": "display_data"
    }
   ],
   "source": [
    "## Время выполнения алгоритма KMeans с MiniBatchKMeans\n",
    "times = np.empty(10)\n",
    "minibatch = Kmeans(k = 3, random_state=4)\n",
    "for i in xrange(10):\n",
    "    X, y = make_blobs(n_samples=(i + 1)*10, n_features=2, centers=3, cluster_std=1, \n",
    "                      center_box=(-10.0, 10.0), shuffle=False, random_state=1234)\n",
    "    time = %timeit -o minibatch.fit(X)\n",
    "    times[i] = time.best\n",
    "\n",
    "times = times*1000\n",
    "plt.plot([10, 20, 30, 40, 50, 60, 70, 80, 90, 100], times)\n",
    "plt.ylabel('ms')\n",
    "plt.xlabel('samples')\n",
    "plt.axis([10, 100, min(times), max(times)])\n",
    "plt.show()"
   ]
  },
  {
   "cell_type": "code",
   "execution_count": 297,
   "metadata": {},
   "outputs": [
    {
     "name": "stdout",
     "output_type": "stream",
     "text": [
      "10 loops, best of 3: 120 ms per loop\n",
      "10 loops, best of 3: 125 ms per loop\n",
      "10 loops, best of 3: 135 ms per loop\n",
      "10 loops, best of 3: 145 ms per loop\n",
      "10 loops, best of 3: 154 ms per loop\n",
      "10 loops, best of 3: 162 ms per loop\n",
      "10 loops, best of 3: 142 ms per loop\n",
      "10 loops, best of 3: 149 ms per loop\n",
      "10 loops, best of 3: 158 ms per loop\n",
      "10 loops, best of 3: 166 ms per loop\n"
     ]
    },
    {
     "data": {
      "image/png": "[encoded data removed]",
      "text/plain": [
       "<matplotlib.figure.Figure at 0x7f9091aa6e90>"
      ]
     },
     "metadata": {},
     "output_type": "display_data"
    }
   ],
   "source": [
    "## Время выполнения алгоритма  KMeans++ с MiniBatchKMeans\n",
    "times = np.empty(10)\n",
    "minibatch_pp = Kmeans(k = 3, random_state=4, init='k-means')\n",
    "for i in xrange(10):\n",
    "    X, y = make_blobs(n_samples=(i + 1)*10, n_features=2, centers=3, cluster_std=1, \n",
    "                      center_box=(-10.0, 10.0), shuffle=False, random_state=1234)\n",
    "    time = %timeit -o minibatch_pp.fit(X)\n",
    "    times[i] = time.best\n",
    "\n",
    "times = times*1000\n",
    "plt.plot([10, 20, 30, 40, 50, 60, 70, 80, 90, 100], times)\n",
    "plt.ylabel('ms')\n",
    "plt.xlabel('samples')\n",
    "plt.axis([10, 100, min(times), max(times)])\n",
    "plt.show()"
   ]
  },
  {
   "cell_type": "markdown",
   "metadata": {},
   "source": [
    "# Применение K-means на реальных данных"
   ]
  },
  {
   "cell_type": "markdown",
   "metadata": {},
   "source": [
    "Загрузите [данные](https://github.com/brenden17/sklearnlab/blob/master/facebook/snsdata.csv) в которых содержится описание интересов профилей учеников старшей школы США.  (без этого пункта задание не считается выполненным).   \n",
    "ВНИМАНИЕ! Проверка должна быть осуществлена на всех реализациях, иначе реализация не будет зачтена!"
   ]
  },
  {
   "cell_type": "code",
   "execution_count": 337,
   "metadata": {},
   "outputs": [
    {
     "data": {
      "text/html": [
       "<div>\n",
       "<style>\n",
       "    .dataframe thead tr:only-child th {\n",
       "        text-align: right;\n",
       "    }\n",
       "\n",
       "    .dataframe thead th {\n",
       "        text-align: left;\n",
       "    }\n",
       "\n",
       "    .dataframe tbody tr th {\n",
       "        vertical-align: top;\n",
       "    }\n",
       "</style>\n",
       "<table border=\"1\" class=\"dataframe\">\n",
       "  <thead>\n",
       "    <tr style=\"text-align: right;\">\n",
       "      <th></th>\n",
       "      <th>gradyear</th>\n",
       "      <th>gender</th>\n",
       "      <th>age</th>\n",
       "      <th>friends</th>\n",
       "      <th>basketball</th>\n",
       "      <th>football</th>\n",
       "      <th>soccer</th>\n",
       "      <th>softball</th>\n",
       "      <th>volleyball</th>\n",
       "      <th>swimming</th>\n",
       "      <th>...</th>\n",
       "      <th>blonde</th>\n",
       "      <th>mall</th>\n",
       "      <th>shopping</th>\n",
       "      <th>clothes</th>\n",
       "      <th>hollister</th>\n",
       "      <th>abercrombie</th>\n",
       "      <th>die</th>\n",
       "      <th>death</th>\n",
       "      <th>drunk</th>\n",
       "      <th>drugs</th>\n",
       "    </tr>\n",
       "  </thead>\n",
       "  <tbody>\n",
       "    <tr>\n",
       "      <th>0</th>\n",
       "      <td>2006</td>\n",
       "      <td>M</td>\n",
       "      <td>18.982</td>\n",
       "      <td>7</td>\n",
       "      <td>0</td>\n",
       "      <td>0</td>\n",
       "      <td>0</td>\n",
       "      <td>0</td>\n",
       "      <td>0</td>\n",
       "      <td>0</td>\n",
       "      <td>...</td>\n",
       "      <td>0</td>\n",
       "      <td>0</td>\n",
       "      <td>0</td>\n",
       "      <td>0</td>\n",
       "      <td>0</td>\n",
       "      <td>0</td>\n",
       "      <td>0</td>\n",
       "      <td>0</td>\n",
       "      <td>0</td>\n",
       "      <td>0</td>\n",
       "    </tr>\n",
       "    <tr>\n",
       "      <th>1</th>\n",
       "      <td>2006</td>\n",
       "      <td>F</td>\n",
       "      <td>18.801</td>\n",
       "      <td>0</td>\n",
       "      <td>0</td>\n",
       "      <td>1</td>\n",
       "      <td>0</td>\n",
       "      <td>0</td>\n",
       "      <td>0</td>\n",
       "      <td>0</td>\n",
       "      <td>...</td>\n",
       "      <td>0</td>\n",
       "      <td>1</td>\n",
       "      <td>0</td>\n",
       "      <td>0</td>\n",
       "      <td>0</td>\n",
       "      <td>0</td>\n",
       "      <td>0</td>\n",
       "      <td>0</td>\n",
       "      <td>0</td>\n",
       "      <td>0</td>\n",
       "    </tr>\n",
       "    <tr>\n",
       "      <th>2</th>\n",
       "      <td>2006</td>\n",
       "      <td>M</td>\n",
       "      <td>18.335</td>\n",
       "      <td>69</td>\n",
       "      <td>0</td>\n",
       "      <td>1</td>\n",
       "      <td>0</td>\n",
       "      <td>0</td>\n",
       "      <td>0</td>\n",
       "      <td>0</td>\n",
       "      <td>...</td>\n",
       "      <td>0</td>\n",
       "      <td>0</td>\n",
       "      <td>0</td>\n",
       "      <td>0</td>\n",
       "      <td>0</td>\n",
       "      <td>0</td>\n",
       "      <td>0</td>\n",
       "      <td>1</td>\n",
       "      <td>0</td>\n",
       "      <td>0</td>\n",
       "    </tr>\n",
       "    <tr>\n",
       "      <th>3</th>\n",
       "      <td>2006</td>\n",
       "      <td>F</td>\n",
       "      <td>18.875</td>\n",
       "      <td>0</td>\n",
       "      <td>0</td>\n",
       "      <td>0</td>\n",
       "      <td>0</td>\n",
       "      <td>0</td>\n",
       "      <td>0</td>\n",
       "      <td>0</td>\n",
       "      <td>...</td>\n",
       "      <td>0</td>\n",
       "      <td>0</td>\n",
       "      <td>0</td>\n",
       "      <td>0</td>\n",
       "      <td>0</td>\n",
       "      <td>0</td>\n",
       "      <td>0</td>\n",
       "      <td>0</td>\n",
       "      <td>0</td>\n",
       "      <td>0</td>\n",
       "    </tr>\n",
       "    <tr>\n",
       "      <th>4</th>\n",
       "      <td>2006</td>\n",
       "      <td>NaN</td>\n",
       "      <td>18.995</td>\n",
       "      <td>10</td>\n",
       "      <td>0</td>\n",
       "      <td>0</td>\n",
       "      <td>0</td>\n",
       "      <td>0</td>\n",
       "      <td>0</td>\n",
       "      <td>0</td>\n",
       "      <td>...</td>\n",
       "      <td>0</td>\n",
       "      <td>0</td>\n",
       "      <td>2</td>\n",
       "      <td>0</td>\n",
       "      <td>0</td>\n",
       "      <td>0</td>\n",
       "      <td>0</td>\n",
       "      <td>0</td>\n",
       "      <td>1</td>\n",
       "      <td>1</td>\n",
       "    </tr>\n",
       "  </tbody>\n",
       "</table>\n",
       "<p>5 rows × 40 columns</p>\n",
       "</div>"
      ],
      "text/plain": [
       "   gradyear gender     age  friends  basketball  football  soccer  softball  \\\n",
       "0      2006      M  18.982        7           0         0       0         0   \n",
       "1      2006      F  18.801        0           0         1       0         0   \n",
       "2      2006      M  18.335       69           0         1       0         0   \n",
       "3      2006      F  18.875        0           0         0       0         0   \n",
       "4      2006    NaN  18.995       10           0         0       0         0   \n",
       "\n",
       "   volleyball  swimming  ...    blonde  mall  shopping  clothes  hollister  \\\n",
       "0           0         0  ...         0     0         0        0          0   \n",
       "1           0         0  ...         0     1         0        0          0   \n",
       "2           0         0  ...         0     0         0        0          0   \n",
       "3           0         0  ...         0     0         0        0          0   \n",
       "4           0         0  ...         0     0         2        0          0   \n",
       "\n",
       "   abercrombie  die  death  drunk  drugs  \n",
       "0            0    0      0      0      0  \n",
       "1            0    0      0      0      0  \n",
       "2            0    0      1      0      0  \n",
       "3            0    0      0      0      0  \n",
       "4            0    0      0      1      1  \n",
       "\n",
       "[5 rows x 40 columns]"
      ]
     },
     "execution_count": 337,
     "metadata": {},
     "output_type": "execute_result"
    }
   ],
   "source": [
    "df_sns = pd.read_csv('snsdata.csv', sep=',')\n",
    "df_sns.head()"
   ]
  },
  {
   "cell_type": "code",
   "execution_count": 321,
   "metadata": {},
   "outputs": [],
   "source": [
    "df_sns_36 = df_sns.iloc[:, 4:]\n",
    "df_sns_norm = (df_sns_36 - df_sns_36.mean(axis = 0))/df_sns_36.std(axis = 0)\n",
    "X = df_sns_norm.as_matrix()"
   ]
  },
  {
   "cell_type": "markdown",
   "metadata": {},
   "source": [
    "Данные устроены так: \n",
    "* Год выпуска\n",
    "* Пол\n",
    "* Возраст\n",
    "* Количество друзей\n",
    "* 36 ключевых слов, которые встречаются в профилe facebook (интересы, сообщества, встречи)"
   ]
  },
  {
   "cell_type": "markdown",
   "metadata": {},
   "source": [
    "* Удалите все признаки кроме 36 ключевых слов.\n",
    "* Нормализуйте данные - из каждого столбца вычтите его среднее значение и поделите на стандартное отклонение.\n",
    "* Используйте метод k-means чтобы выделить 9 кластеров\n",
    "* Попробуйте проинтерпретировать каждый кластер проанализировав полученные центройды (Некоторые кластеры могут быть очень большие и очень маленькие - плохо интерпретируются)   \n",
    "КОММЕНТАРИИ НЕ СТИРАТЬ!"
   ]
  },
  {
   "cell_type": "code",
   "execution_count": 329,
   "metadata": {},
   "outputs": [],
   "source": [
    "## KMeans\n",
    "kmeans = Kmeans(k = 9, random_state=4)\n",
    "kmeans.fit(X)"
   ]
  },
  {
   "cell_type": "code",
   "execution_count": 360,
   "metadata": {},
   "outputs": [
    {
     "data": {
      "text/plain": [
       "array([[  8.54624419e-01,   1.36534595e+00,   1.85877645e-01,\n",
       "          9.59971424e-02,  -5.10146429e-02,   8.05236953e-02,\n",
       "          2.04103587e-01,   5.61721464e+00,  -3.12833870e-02,\n",
       "          7.24519110e-01,   1.76402714e-01,   9.53084609e-02,\n",
       "          1.15573840e-01,   6.01711412e-02,  -4.45198686e-02,\n",
       "         -6.61050896e-02,  -8.70164897e-02,  -1.02281432e-01,\n",
       "          7.77509524e-02,   6.42248069e-01,  -2.29619375e-02,\n",
       "          1.47021215e-01,  -1.88119250e-02,  -4.01901584e-02,\n",
       "          8.75807259e-02,  -1.42734720e-01,   1.64066561e-01,\n",
       "          6.07378288e-02,  -1.84843461e-01,  -3.68438119e-02,\n",
       "         -1.20470744e-01,  -1.16041651e-01,  -6.38978756e-02,\n",
       "         -2.57261690e-02,  -7.96415083e-02,  -3.39897629e-02],\n",
       "       [  3.55115297e-01,   3.77830593e-01,   9.11981195e-02,\n",
       "          7.96704104e-02,   7.19220137e-02,   2.68535234e-01,\n",
       "          1.38945100e-01,   1.46595318e-01,   1.19937431e-01,\n",
       "          8.32369573e-01,   4.78529431e-01,   2.18944358e+00,\n",
       "          5.15925697e-01,   2.94480930e-01,   3.28316929e+00,\n",
       "          4.55437108e-01,   3.95658092e-01,  -2.19720291e-02,\n",
       "          1.18094924e+00,   1.20700891e+00,   3.56894722e-01,\n",
       "          1.74620751e-01,   5.45610061e-02,   4.17010873e-02,\n",
       "          2.58827283e+00,   5.16098954e-01,   3.75636722e-01,\n",
       "          6.09478513e-01,   2.25835216e-01,   1.14625409e+00,\n",
       "          1.94075727e-01,   2.91808652e-01,   1.79709726e+00,\n",
       "          9.49019822e-01,   1.90260965e+00,   2.91136231e+00],\n",
       "       [  1.08994464e-01,   6.22642308e-02,  -3.44410266e-02,\n",
       "         -1.34370753e-02,  -5.95230228e-02,   7.32487897e-02,\n",
       "         -6.02782593e-02,  -3.60320893e-02,   3.42553703e-02,\n",
       "         -3.40007509e-02,  -3.58269477e-02,  -3.13096193e-03,\n",
       "         -1.12204032e-01,  -1.43006781e-02,  -5.41286032e-02,\n",
       "          6.54275980e-03,   1.04011323e-01,  -9.70032892e-03,\n",
       "          2.68049471e-01,   1.08409210e-01,   3.10227243e+00,\n",
       "          2.19364797e+00,   3.24188145e+00,   4.68987085e+00,\n",
       "          2.65165113e-02,   5.51515443e-03,   4.22666007e-03,\n",
       "         -7.39974945e-02,   2.02198340e-02,   2.36202322e-02,\n",
       "         -9.84844414e-02,  -1.00364432e-01,   2.80447110e-01,\n",
       "          4.11827165e-01,   6.91000916e-02,   6.83033569e-02],\n",
       "       [  1.28593357e-01,   2.39244415e-01,   6.35980973e-02,\n",
       "         -1.09367013e-02,   1.18395292e-01,   2.44425420e-01,\n",
       "          3.60141766e-01,  -1.54168672e-02,   9.02156584e-02,\n",
       "          9.64591889e-02,   3.78753713e-01,   2.33607908e-02,\n",
       "          1.19924886e-01,   4.17316164e-01,   6.51112705e-02,\n",
       "          2.40310537e-01,  -9.77922825e-02,  -1.08086486e-01,\n",
       "          1.48208769e-01,   7.23529318e-02,   3.57028067e-03,\n",
       "         -1.64465718e-02,  -2.19772499e-02,  -5.16395601e-02,\n",
       "          4.52922576e-01,   1.52322245e-01,   6.23802455e-02,\n",
       "          6.01460478e-01,   7.90785075e-01,   5.76660156e-01,\n",
       "          4.17923284e+00,   4.01451072e+00,   5.57223890e-02,\n",
       "          8.07888034e-02,   4.03390716e-02,   4.31970723e-02],\n",
       "       [  7.44394202e-02,   1.17908644e-01,  -9.47783507e-02,\n",
       "         -8.80836776e-02,  -5.75036112e-02,   3.00455298e-01,\n",
       "         -6.68278071e-02,  -8.27844856e-02,  -4.24248941e-02,\n",
       "         -1.55697552e-02,   8.11354472e-01,   2.57056197e-02,\n",
       "          4.20169397e-01,   5.28505339e-01,  -8.21322512e-03,\n",
       "          6.80721793e-01,  -1.78133242e-02,  -1.07964530e-01,\n",
       "          3.21450493e-01,   1.75831276e-01,   8.55038000e-02,\n",
       "          2.77408863e-01,  -2.38521048e-03,  -8.18969707e-02,\n",
       "          3.63878738e-01,   6.30788554e-01,   1.73497352e-02,\n",
       "          6.92359102e-01,   8.57808263e-01,   6.05078625e-01,\n",
       "         -4.98045492e-02,  -7.17808793e-02,   8.30941080e-02,\n",
       "          1.24839911e-01,   7.18023155e-02,  -4.32008281e-02],\n",
       "       [ -1.23939070e-01,  -1.25082346e-01,  -1.49448802e-01,\n",
       "         -1.44851053e-01,  -1.32116329e-01,  -1.06498938e-01,\n",
       "         -1.56882991e-01,  -1.35469817e-01,  -9.64369322e-02,\n",
       "         -1.00891483e-01,  -2.22058404e-01,  -9.97548440e-02,\n",
       "         -1.17778164e-01,  -1.54774214e-01,  -1.38625432e-01,\n",
       "         -1.82855383e-01,  -1.22488975e-01,  -1.10536325e-01,\n",
       "         -1.51513291e-01,  -1.23523831e-01,  -1.13284854e-01,\n",
       "         -1.39122700e-01,  -7.75609065e-02,  -8.52912446e-02,\n",
       "         -2.18868964e-01,  -1.67657364e-01,  -3.00315412e-02,\n",
       "         -2.07579865e-01,  -2.56219334e-01,  -2.09315161e-01,\n",
       "         -1.58764681e-01,  -1.50593075e-01,  -1.00551933e-01,\n",
       "         -8.46108002e-02,  -9.39321023e-02,  -1.14982957e-01],\n",
       "       [ -7.85143284e-02,   8.38138942e-02,  -1.27809687e-01,\n",
       "         -5.18619409e-02,  -1.04710592e-01,   3.45250924e-02,\n",
       "         -1.09773927e-01,  -1.08276033e-01,   4.85982966e-02,\n",
       "         -6.20701349e-02,  -3.58269477e-02,  -4.16289199e-02,\n",
       "         -4.78655698e-02,  -5.47933715e-02,  -4.63645567e-02,\n",
       "          4.20461625e-02,   4.11628793e+00,   5.32446471e+00,\n",
       "          5.18785924e-01,   1.73769012e-01,   5.93218861e-02,\n",
       "          4.67976524e-02,  -1.12261138e-02,  -4.50663444e-02,\n",
       "         -2.55957046e-02,   4.95093931e-02,  -1.08523151e-02,\n",
       "         -8.39440851e-02,  -6.21784972e-02,  -1.03702279e-02,\n",
       "         -1.66549486e-01,  -1.39707315e-01,   1.63503789e-03,\n",
       "          2.36589828e-02,  -9.46913542e-02,  -6.47457478e-02],\n",
       "       [  1.61042195e-01,   2.36741539e-01,   2.26293919e+00,\n",
       "         -5.82673694e-02,  -4.89472203e-02,   9.01222338e-02,\n",
       "          2.09155777e+00,  -4.30753173e-02,   1.32341783e+00,\n",
       "          1.83510990e-01,   1.56561034e-02,  -7.50443942e-02,\n",
       "         -1.85974349e-02,   5.66397119e-02,  -6.54159046e-02,\n",
       "          2.31939726e-02,  -6.54145849e-02,  -1.02472879e-01,\n",
       "         -3.11580718e-02,   2.21078403e-02,   2.68224793e-03,\n",
       "          1.00439092e-01,  -3.04740614e-02,  -5.64390004e-02,\n",
       "         -2.27172954e-02,  -9.00778648e-03,   2.28196922e-02,\n",
       "          2.78299441e-02,   2.47787236e-01,  -4.51003181e-02,\n",
       "         -3.62307538e-02,  -5.30429372e-02,  -5.08537516e-02,\n",
       "         -1.35474571e-02,  -6.10705732e-02,  -6.97354766e-02],\n",
       "       [  9.96009562e-01,   2.75195564e-01,  -1.66559719e-03,\n",
       "          3.21164169e+00,   2.84783634e+00,   1.24225566e-01,\n",
       "         -2.95293395e-02,   7.21506456e-02,  -5.35997084e-03,\n",
       "          6.29640957e-01,   3.14240203e-02,  -4.81005138e-02,\n",
       "         -1.97330927e-02,   7.02820810e-02,  -6.36189477e-02,\n",
       "          1.48904148e-02,  -5.42212365e-02,  -9.34688035e-02,\n",
       "         -1.36430050e-02,   4.81831712e-03,   4.59642050e-02,\n",
       "          1.09188591e-01,   3.55447252e-02,  -4.65875956e-02,\n",
       "          2.26125580e-02,   3.31386265e-02,   1.23446164e-02,\n",
       "          4.98287554e-02,   2.36185352e-01,   6.86025094e-02,\n",
       "         -3.98508874e-02,  -4.93707733e-02,  -6.49150920e-02,\n",
       "          3.11212090e-02,  -5.04104609e-02,  -7.24559871e-02]])"
      ]
     },
     "execution_count": 360,
     "metadata": {},
     "output_type": "execute_result"
    }
   ],
   "source": [
    "kmeans.centroids"
   ]
  },
  {
   "cell_type": "code",
   "execution_count": 361,
   "metadata": {},
   "outputs": [
    {
     "data": {
      "text/plain": [
       "Kmeans(init='k-means', k=9, max_iter=1000,\n",
       "    metric=<sklearn.neighbors.dist_metrics.EuclideanDistance object at 0x7f908e7fcd70>,\n",
       "    random_state=4)"
      ]
     },
     "execution_count": 361,
     "metadata": {},
     "output_type": "execute_result"
    }
   ],
   "source": [
    "## KMeans++\n",
    "kmeans_pp = Kmeans(k = 9, random_state=4, init='k-means')\n",
    "kmeans_pp.fit(X)"
   ]
  },
  {
   "cell_type": "code",
   "execution_count": 362,
   "metadata": {},
   "outputs": [
    {
     "data": {
      "text/plain": [
       "array([[  1.01680171e+00,   1.39108581e+00,   1.18601268e-01,\n",
       "          2.06197229e-01,   1.10588688e-01,   7.79280842e-02,\n",
       "          2.43219450e-01,   5.46018522e+00,   6.20864425e-02,\n",
       "          7.92650955e-01,   1.79647434e-01,   9.28572801e-02,\n",
       "          4.65258665e-02,   2.22373148e-02,  -3.81299619e-02,\n",
       "         -6.21254981e-02,  -5.74782814e-02,  -9.17471482e-02,\n",
       "          8.55073052e-02,   6.04978396e-01,  -2.12770283e-02,\n",
       "          1.46997201e-01,  -1.79855971e-02,  -2.58523293e-02,\n",
       "          9.40655942e-02,  -1.23951225e-01,   1.53718860e-01,\n",
       "          5.79455360e-02,  -1.55107313e-01,  -5.39635872e-02,\n",
       "         -1.19229000e-01,  -1.00136707e-01,  -4.36133845e-02,\n",
       "         -2.07511062e-02,  -7.74837291e-02,  -4.07717645e-02],\n",
       "       [  1.50243326e-01,   2.27744622e-01,   2.64843820e-02,\n",
       "          7.63100457e-02,   1.89974153e-01,   2.42944637e-01,\n",
       "          3.91967984e-01,  -2.69091715e-03,   1.40565140e-01,\n",
       "          1.02463675e-01,   3.82015642e-01,   2.61890829e-02,\n",
       "          8.45921165e-02,   3.96269441e-01,   7.68702719e-02,\n",
       "          2.33364858e-01,  -9.74375696e-02,  -1.08635488e-01,\n",
       "          1.52033783e-01,   6.72308194e-02,   3.93696619e-03,\n",
       "         -1.96659530e-02,  -6.58640449e-03,  -5.25060110e-02,\n",
       "          4.61625376e-01,   1.45746790e-01,   6.53594976e-02,\n",
       "          6.07443423e-01,   7.95719490e-01,   5.81900466e-01,\n",
       "          4.16136102e+00,   4.00008349e+00,   5.18330836e-02,\n",
       "          1.02084799e-01,   4.19398163e-02,   3.96048081e-02],\n",
       "       [  9.84481580e-02,   5.66742737e-02,  -5.39550983e-02,\n",
       "          6.14846116e-02,  -1.16166042e-02,   7.11618480e-02,\n",
       "         -3.14032225e-04,  -4.50690726e-02,   2.89443953e-02,\n",
       "         -3.12169787e-02,  -1.73092194e-02,  -4.27866723e-03,\n",
       "         -1.17127896e-01,  -2.79464295e-03,  -5.09597700e-02,\n",
       "         -1.17591153e-03,   8.67545081e-02,  -2.50690041e-02,\n",
       "          2.66014762e-01,   1.02716609e-01,   3.10243242e+00,\n",
       "          2.24813315e+00,   3.22395969e+00,   4.65984507e+00,\n",
       "          2.58414260e-02,   3.18049267e-02,   3.88117577e-03,\n",
       "         -6.68490315e-02,   1.99231591e-02,   3.91727645e-02,\n",
       "         -9.91294631e-02,  -1.15817895e-01,   2.63472858e-01,\n",
       "          3.40696351e-01,   5.68256392e-02,   6.07380128e-02],\n",
       "       [  2.24854975e-01,   2.06545883e-01,   5.09243395e+00,\n",
       "          2.48716133e-02,   7.71872418e-02,   9.85411833e-02,\n",
       "         -3.13339813e-02,  -1.93698344e-02,   1.03433887e-01,\n",
       "          3.76925201e-01,   4.09096459e-03,  -6.48914217e-02,\n",
       "         -5.24304409e-02,   6.86279666e-02,  -5.59301743e-02,\n",
       "         -2.21417121e-02,  -4.30495457e-02,  -9.13724703e-02,\n",
       "          3.03655095e-02,   7.30782018e-02,  -1.05347684e-02,\n",
       "          8.31651291e-02,  -1.72855633e-02,  -1.99953674e-02,\n",
       "          6.40373943e-03,  -7.44227022e-04,   2.22970775e-02,\n",
       "          4.10385407e-02,   1.98962308e-01,  -4.36409077e-02,\n",
       "         -1.08850527e-02,  -4.42615720e-02,  -7.20926142e-03,\n",
       "         -2.46913116e-02,  -5.12068838e-02,  -4.59974336e-02],\n",
       "       [ -1.12326046e-01,   4.13993995e-02,  -1.33261059e-01,\n",
       "         -4.08683055e-03,  -7.91321561e-02,   4.59910904e-02,\n",
       "         -1.13498438e-01,  -1.11200971e-01,   1.25743516e-02,\n",
       "         -9.50844173e-02,  -5.65608704e-02,  -4.67853757e-02,\n",
       "         -9.72865409e-02,  -6.27894356e-02,  -7.36571056e-02,\n",
       "          2.05535261e-02,   3.39258366e+00,   4.84528243e+00,\n",
       "          3.88087194e-01,   1.51606662e-01,   3.58129058e-02,\n",
       "          1.26452189e-02,  -2.21260978e-02,  -3.87427184e-02,\n",
       "         -4.05758657e-02,   2.15308855e-02,  -1.43579666e-02,\n",
       "         -1.13663858e-01,  -8.75988162e-02,  -2.20681615e-02,\n",
       "         -1.70548760e-01,  -1.49463336e-01,  -1.57518238e-02,\n",
       "          2.69508834e-02,  -9.27738395e-02,  -8.17944742e-02],\n",
       "       [ -7.56313588e-02,  -1.03742011e-01,  -1.23609073e-01,\n",
       "         -6.07996704e-02,  -4.63197706e-02,  -7.39445784e-02,\n",
       "         -5.66739867e-02,  -1.17260076e-01,  -3.58040066e-02,\n",
       "         -7.45845285e-02,   1.30430687e-01,   4.72932915e-02,\n",
       "          2.46201415e+00,   1.35305916e-01,  -5.04889852e-02,\n",
       "         -6.20055073e-03,  -8.93510044e-02,  -1.22367396e-01,\n",
       "         -4.57861966e-02,  -4.99039818e-02,  -3.82988638e-02,\n",
       "         -8.82460082e-02,  -6.88524036e-02,  -7.97461529e-02,\n",
       "          2.90124878e-02,  -6.84143163e-02,  -2.12597496e-03,\n",
       "         -6.00477867e-02,  -1.11672143e-01,  -3.26035783e-02,\n",
       "         -1.14726014e-01,  -1.35746955e-01,  -2.54821961e-02,\n",
       "         -1.21335423e-02,   5.48158669e-02,  -6.93741211e-02],\n",
       "       [ -1.32062213e-01,  -1.34259339e-01,  -1.50667466e-01,\n",
       "         -1.11679669e-01,  -1.10450114e-01,  -1.14852663e-01,\n",
       "         -1.22355687e-01,  -1.36268077e-01,  -4.32991447e-02,\n",
       "         -1.02113571e-01,  -2.07263334e-01,  -1.05970700e-01,\n",
       "         -2.67318215e-01,  -1.47062811e-01,  -1.37724332e-01,\n",
       "         -1.75592637e-01,  -1.26126776e-01,  -1.34474590e-01,\n",
       "         -1.51430106e-01,  -1.16682667e-01,  -1.12059425e-01,\n",
       "         -1.39098408e-01,  -7.62180512e-02,  -8.60438378e-02,\n",
       "         -2.13948148e-01,  -1.62155121e-01,  -2.95703097e-02,\n",
       "         -2.01983074e-01,  -2.61705894e-01,  -2.01860414e-01,\n",
       "         -1.59869049e-01,  -1.48122754e-01,  -9.81300428e-02,\n",
       "         -8.42447308e-02,  -9.55257375e-02,  -1.14169661e-01],\n",
       "       [  3.43197948e-01,   2.83478531e-01,  -8.79201395e-02,\n",
       "          4.20919342e-01,   4.20635550e-01,   3.82201905e-01,\n",
       "          4.30354200e-01,  -4.97401584e-02,   1.18933891e-01,\n",
       "          1.40509562e-01,   6.34751905e-01,  -1.65882401e-02,\n",
       "         -1.33418003e-01,   4.20752851e-01,  -3.48434270e-02,\n",
       "          6.19960812e-01,  -4.28380856e-02,  -1.20435482e-01,\n",
       "          2.90931847e-01,   1.40421023e-01,   8.94510112e-02,\n",
       "          3.27897107e-01,   9.09673574e-03,  -8.02599725e-02,\n",
       "          2.64792524e-01,   5.92068440e-01,   1.68377706e-02,\n",
       "          6.60111708e-01,   9.70165287e-01,   5.27491322e-01,\n",
       "         -3.54781080e-02,  -6.17166855e-02,   4.13935211e-02,\n",
       "          1.10335702e-01,  -1.82606202e-03,  -7.02959242e-02],\n",
       "       [  3.51199526e-01,   3.65636438e-01,   3.11547904e-02,\n",
       "          1.62520923e-01,   1.17060159e-01,   2.69829156e-01,\n",
       "          1.76935303e-01,   1.44746069e-01,   1.30259514e-01,\n",
       "          8.29254604e-01,   4.74399743e-01,   2.14635518e+00,\n",
       "          3.85435283e-01,   2.91728364e-01,   3.18629546e+00,\n",
       "          4.50101119e-01,   3.91778513e-01,  -2.54361119e-02,\n",
       "          1.14676777e+00,   1.17562761e+00,   3.46094108e-01,\n",
       "          1.77669452e-01,   6.77028699e-02,   4.79658118e-02,\n",
       "          2.57346330e+00,   5.39379453e-01,   3.69901734e-01,\n",
       "          6.04232309e-01,   2.28877872e-01,   1.20162067e+00,\n",
       "          1.82604392e-01,   2.70353417e-01,   1.73127059e+00,\n",
       "          9.63094226e-01,   1.92715768e+00,   2.89646543e+00]])"
      ]
     },
     "execution_count": 362,
     "metadata": {},
     "output_type": "execute_result"
    }
   ],
   "source": [
    "kmeans_pp.centroids"
   ]
  },
  {
   "cell_type": "code",
   "execution_count": 363,
   "metadata": {},
   "outputs": [
    {
     "data": {
      "text/plain": [
       "array([[  7.86623200e-01,   1.03141544e+00,   2.14641951e-01,\n",
       "          9.64681421e-02,  -5.40250974e-02,   6.91895685e-02,\n",
       "          2.83028043e-01,   5.89154682e+00,   1.20867601e-02,\n",
       "          6.61854122e-01,   1.82788954e-01,   1.14824730e-01,\n",
       "          1.50264687e-01,   5.70914323e-02,  -3.98729029e-02,\n",
       "         -6.55869442e-02,  -6.79460644e-02,  -8.59100828e-02,\n",
       "          7.47639374e-02,   6.92055383e-01,  -2.73987051e-02,\n",
       "          1.35698071e-01,  -3.65428258e-02,  -1.01954784e-02,\n",
       "          1.22823366e-01,  -1.43368639e-01,   1.82973371e-01,\n",
       "          5.39547058e-02,  -1.64228973e-01,  -3.19654765e-02,\n",
       "         -1.16235974e-01,  -9.80565033e-02,  -7.42976232e-02,\n",
       "         -4.48597336e-02,  -8.32265590e-02,  -3.04787482e-02],\n",
       "       [  3.36837628e-01,   3.68715517e-01,   6.87152304e-02,\n",
       "          8.55515251e-02,   6.10732528e-02,   2.58419617e-01,\n",
       "          1.96023255e-01,   1.47416765e-01,   1.34501195e-01,\n",
       "          7.57753082e-01,   4.41456029e-01,   2.06096973e+00,\n",
       "          4.90055052e-01,   2.71999430e-01,   3.07851744e+00,\n",
       "          4.69689846e-01,   3.78921382e-01,  -1.75685094e-02,\n",
       "          1.15102849e+00,   1.16107975e+00,   3.57730315e-01,\n",
       "          1.41027803e-01,   4.82184709e-02,   4.36835252e-02,\n",
       "          2.56913920e+00,   5.43376552e-01,   3.93339311e-01,\n",
       "          5.83762146e-01,   2.45976109e-01,   1.24004477e+00,\n",
       "          1.81794975e-01,   2.60485360e-01,   1.75556719e+00,\n",
       "          8.96690037e-01,   1.96920438e+00,   2.78815430e+00],\n",
       "       [  2.80351642e-01,   8.76708300e-01,  -9.56360661e-02,\n",
       "         -9.10049592e-02,  -6.46367918e-02,   2.68309802e-02,\n",
       "         -3.90190205e-02,  -1.42225599e-02,   4.63123912e-01,\n",
       "          2.88206617e-01,  -1.09272134e-01,  -4.32684031e-02,\n",
       "         -9.60030050e-02,  -7.63777533e-02,  -7.91810254e-02,\n",
       "          2.29405961e-02,   5.76701848e-02,  -7.98374235e-02,\n",
       "          4.84757871e-01,   2.87687671e-01,   1.08760327e+00,\n",
       "          1.17954116e+00,   1.03652762e+00,   8.55538476e-01,\n",
       "         -3.96703014e-02,  -1.77541754e-02,  -4.40697173e-03,\n",
       "         -1.28795731e-01,  -7.93770644e-02,  -8.14764759e-03,\n",
       "         -1.44096014e-01,  -1.29752438e-01,   1.59488862e-01,\n",
       "          2.65489961e-01,  -3.24940960e-02,  -5.01167088e-02],\n",
       "       [  1.21690376e-01,   2.17159049e-01,   5.12407655e-02,\n",
       "         -1.49147359e-02,   1.13125892e-01,   2.45980454e-01,\n",
       "          3.89746380e-01,  -1.10878665e-02,   1.27111700e-01,\n",
       "          8.83476824e-02,   3.68948702e-01,   2.78127298e-02,\n",
       "          1.24416761e-01,   4.30921333e-01,   7.28554649e-02,\n",
       "          2.31162172e-01,  -9.71356391e-02,  -1.10198252e-01,\n",
       "          1.45809816e-01,   6.75694962e-02,   3.27080939e-02,\n",
       "         -1.46855739e-02,  -9.27244523e-03,  -3.23817044e-02,\n",
       "          4.51112990e-01,   1.47864576e-01,   6.36896256e-02,\n",
       "          6.02026663e-01,   7.84572403e-01,   5.80779951e-01,\n",
       "          4.17883108e+00,   4.03418049e+00,   5.19657627e-02,\n",
       "          9.18796804e-02,   4.33811610e-02,   4.72647370e-02],\n",
       "       [  6.25592462e-03,   5.66205972e-03,  -1.36903189e-01,\n",
       "         -7.19731743e-02,  -7.66847483e-02,   1.01366193e-02,\n",
       "          3.38101316e-01,  -9.05434576e-02,  -2.81163849e-02,\n",
       "         -1.00878051e-01,   1.22965304e+00,   3.79904691e-02,\n",
       "          6.39282645e-01,   7.22067486e-01,  -1.64795879e-02,\n",
       "          7.96176610e-01,  -3.63317215e-02,  -9.81456361e-02,\n",
       "          1.25506917e-01,   8.13040398e-02,  -1.37344239e-02,\n",
       "          4.93258940e-02,  -8.58359308e-02,  -8.39393205e-02,\n",
       "          3.38941672e-01,   7.01867536e-01,   1.75294361e-02,\n",
       "          9.58684582e-01,   3.11356223e-01,   3.97631041e-01,\n",
       "         -6.08634903e-02,  -6.55173139e-02,   5.42095937e-02,\n",
       "          8.26787958e-02,   5.77507694e-02,  -4.77385326e-02],\n",
       "       [ -1.54493763e-01,  -2.05963654e-01,  -1.67434336e-01,\n",
       "         -1.48066514e-01,  -1.40318008e-01,  -1.25284340e-01,\n",
       "         -1.11056141e-01,  -1.42818957e-01,  -8.31653334e-02,\n",
       "         -1.35246339e-01,  -2.46743794e-01,  -1.02619885e-01,\n",
       "         -1.23710582e-01,  -1.58134211e-01,  -1.38075278e-01,\n",
       "         -1.79524676e-01,  -1.20204073e-01,  -9.54427044e-02,\n",
       "         -1.80656490e-01,  -1.41691915e-01,  -1.64940521e-01,\n",
       "         -1.96746514e-01,  -1.24774801e-01,  -9.79617913e-02,\n",
       "         -2.17042335e-01,  -1.58805794e-01,  -3.06190577e-02,\n",
       "         -2.20448667e-01,  -2.62291789e-01,  -1.93543682e-01,\n",
       "         -1.59599504e-01,  -1.51348510e-01,  -1.12058407e-01,\n",
       "         -1.00351237e-01,  -9.70670162e-02,  -1.16817515e-01],\n",
       "       [ -8.99718533e-02,   1.16229508e-01,  -1.17725721e-01,\n",
       "         -4.09756246e-02,  -1.05502175e-01,   7.53384451e-02,\n",
       "         -9.62521383e-02,  -1.11784741e-01,   6.32735898e-02,\n",
       "         -1.12541107e-01,   9.46464018e-03,  -1.82452397e-02,\n",
       "         -4.00536236e-02,  -3.30022996e-02,  -2.96039446e-02,\n",
       "          5.41931286e-02,   4.62808350e+00,   6.02791370e+00,\n",
       "          5.66661008e-01,   1.79030175e-01,   4.38338464e-02,\n",
       "          7.85676436e-02,   3.93084088e-02,   4.78540369e-02,\n",
       "         -3.74301531e-02,   3.97584764e-02,  -5.66877108e-03,\n",
       "         -6.77957348e-02,  -2.20868891e-02,   3.66931647e-04,\n",
       "         -1.61721778e-01,  -1.33165544e-01,  -4.76317193e-03,\n",
       "          7.12102558e-02,  -8.88897649e-02,  -5.20842741e-02],\n",
       "       [  1.28945176e-01,   9.64976685e-02,   1.94755644e+00,\n",
       "         -6.86683745e-02,  -3.79756543e-02,   8.40932211e-01,\n",
       "          2.30795878e-01,  -6.14655116e-02,   8.37441940e-02,\n",
       "          1.70974074e-01,  -2.01713310e-04,  -8.24265824e-02,\n",
       "         -8.06803463e-02,   4.29973914e-02,  -7.20036936e-02,\n",
       "          6.74473369e-03,  -5.69661257e-02,  -9.61855254e-02,\n",
       "          9.24178023e-02,   4.49706640e-03,  -2.60272243e-02,\n",
       "          7.21916015e-02,  -5.54358989e-02,  -5.27744761e-02,\n",
       "          4.36222343e-02,   5.21136915e-02,   1.05135404e-02,\n",
       "          1.10009404e-01,   1.61979296e+00,   3.07377041e-01,\n",
       "          8.04048087e-03,  -7.60858766e-02,  -6.78523725e-02,\n",
       "         -3.53959119e-02,  -5.11670834e-02,  -9.19206431e-02],\n",
       "       [  1.05387987e+00,   2.24240363e-01,   8.49491377e-03,\n",
       "          3.09940392e+00,   2.87033903e+00,   1.00257956e-01,\n",
       "          2.30200928e-02,   6.95855372e-02,   1.33935736e-02,\n",
       "          6.06447504e-01,   3.31780333e-02,  -5.04701427e-02,\n",
       "         -2.20555411e-02,   7.23213699e-02,  -6.84950066e-02,\n",
       "          2.89270086e-02,  -6.01151145e-02,  -8.72366427e-02,\n",
       "         -1.60793986e-02,  -4.34567603e-03,   2.63025197e-02,\n",
       "          9.31387151e-02,   8.38705588e-03,  -1.75030357e-02,\n",
       "          1.57948226e-02,   3.68652085e-02,   9.19978863e-03,\n",
       "          5.18309504e-02,   2.17864370e-01,   5.38719444e-02,\n",
       "         -4.38570058e-02,  -4.54082033e-02,  -7.30666079e-02,\n",
       "          2.82891099e-02,  -6.26878179e-02,  -7.04121295e-02]])"
      ]
     },
     "execution_count": 363,
     "metadata": {},
     "output_type": "execute_result"
    }
   ],
   "source": [
    "## KMeans с MiniBatchKMeans\n",
    "minibatch = MiniBatchKMeans(k = 9, random_state=4)\n",
    "minibatch.fit(X)\n",
    "minibatch.centroids"
   ]
  },
  {
   "cell_type": "code",
   "execution_count": 364,
   "metadata": {},
   "outputs": [
    {
     "data": {
      "text/plain": [
       "array([[  8.03951782e-01,   1.01173306e+00,   1.39380640e-01,\n",
       "          2.07580538e-01,   3.45919470e-02,   6.80245873e-02,\n",
       "          2.76491089e-01,   5.87221667e+00,  -3.31055300e-03,\n",
       "          6.72388899e-01,   2.35889655e-01,   1.06314658e-01,\n",
       "          7.34878122e-02,   5.44966103e-02,  -3.01764745e-02,\n",
       "         -4.87496316e-02,  -5.54134312e-02,  -7.16485801e-02,\n",
       "          9.10349007e-02,   6.51031479e-01,  -2.42529347e-02,\n",
       "          1.20796896e-01,  -2.08891992e-02,  -2.89884851e-03,\n",
       "          1.37366078e-01,  -1.32060937e-01,   1.77189985e-01,\n",
       "          5.96638236e-02,  -1.49148930e-01,  -6.28340414e-02,\n",
       "         -1.01812283e-01,  -1.07005539e-01,  -6.72122540e-02,\n",
       "         -7.54327776e-02,  -8.26352024e-02,  -2.07327560e-02],\n",
       "       [  1.06616844e-01,   1.54705812e-01,  -3.47989753e-02,\n",
       "          5.55462826e-02,   1.41161718e-01,   1.90897947e-01,\n",
       "          7.09156287e-01,  -3.66282156e-02,   7.71749049e-02,\n",
       "          6.92399940e-03,   5.38920506e-01,  -3.03290268e-02,\n",
       "          2.01204541e-02,   6.38022864e-01,  -3.54171803e-03,\n",
       "          2.91423270e-01,  -8.98108607e-02,  -1.12800847e-01,\n",
       "          6.75501360e-02,   4.71267998e-02,   8.54094938e-03,\n",
       "          8.43769800e-02,  -2.19080366e-02,  -4.11967009e-02,\n",
       "          3.30473896e-01,   2.58237609e-01,   4.90551253e-02,\n",
       "          1.46635577e+00,   9.99868035e-01,   2.07013714e-01,\n",
       "          2.63742069e+00,   2.56874134e+00,   1.15331221e-02,\n",
       "         -4.90633237e-03,   2.85765327e-02,  -3.05288375e-02],\n",
       "       [ -7.43889929e-02,  -8.47637775e-02,  -1.46229382e-01,\n",
       "         -6.63379949e-02,  -1.21907107e-01,  -3.29346769e-02,\n",
       "         -7.86287544e-02,  -9.85321314e-02,  -4.59509593e-02,\n",
       "         -2.61252486e-02,   1.94332619e-01,   2.14546670e-01,\n",
       "          1.07005970e-01,  -6.86623069e-02,   9.71960813e-02,\n",
       "          2.31919065e-01,   1.42001053e-01,   3.19544742e-02,\n",
       "          3.22495305e-01,   3.64133486e-01,   9.90833846e-01,\n",
       "          1.71040444e-01,   5.81378062e-01,   3.12691780e-01,\n",
       "          2.95496727e-01,   1.56089803e-01,   3.20231290e-01,\n",
       "          1.39533258e-01,  -5.74152266e-02,   6.07912360e-02,\n",
       "         -7.59129022e-02,  -1.75072938e-02,   2.13266378e+00,\n",
       "          4.43034444e+00,   3.22420652e-01,   1.03506386e-01],\n",
       "       [  2.01718884e-01,   1.76946938e-01,   5.14611402e+00,\n",
       "         -2.07948878e-02,   6.95805547e-02,   1.13992568e-01,\n",
       "         -3.25978089e-02,  -1.57475523e-02,   1.07195302e-01,\n",
       "          3.01058648e-01,   1.28985334e-02,  -5.47674420e-02,\n",
       "         -3.91399491e-02,   8.40005680e-02,  -4.26527463e-02,\n",
       "         -2.17074158e-02,  -3.44571924e-02,  -6.19334133e-02,\n",
       "          3.52436527e-02,   8.09825495e-02,  -8.12757766e-03,\n",
       "          8.83735214e-02,  -1.03428332e-03,   1.88464276e-02,\n",
       "          5.61095446e-03,   1.32440033e-02,   2.51567933e-02,\n",
       "          4.70837320e-03,   2.01373169e-01,  -5.74021282e-02,\n",
       "          2.31415544e-03,  -3.00741205e-02,  -6.66429293e-03,\n",
       "         -2.37854043e-02,  -3.13134912e-02,  -3.83134990e-02],\n",
       "       [  8.85514352e-01,   9.80866844e-01,  -6.14182600e-02,\n",
       "          7.27113106e-01,   7.59670641e-01,   1.51956531e-01,\n",
       "          9.02759485e-02,   2.87119143e-02,   3.90495460e-01,\n",
       "          6.03080066e-01,   6.32477622e-03,  -8.32444530e-02,\n",
       "         -1.83095960e-01,   4.39121933e-02,  -1.17307581e-01,\n",
       "          9.96891690e-02,   2.44399418e-02,  -2.21633834e-02,\n",
       "          1.50531189e-01,   7.52711966e-02,   4.79903353e-01,\n",
       "          6.13022504e-01,   5.05494986e-01,   4.62088677e-01,\n",
       "         -7.02879889e-02,   3.42434924e-02,  -5.62409096e-03,\n",
       "         -5.88908215e-02,   6.57871262e-02,  -1.69492738e-01,\n",
       "         -1.40570323e-01,  -1.33036618e-01,  -4.25656628e-02,\n",
       "         -5.72110693e-02,  -5.44258541e-02,  -9.90018749e-02],\n",
       "       [ -1.14674526e-01,  -1.54909586e-01,  -1.22654482e-01,\n",
       "         -6.82851324e-02,  -9.11568365e-02,  -7.06453095e-02,\n",
       "         -1.12418720e-02,  -1.24295695e-01,  -6.81435783e-02,\n",
       "         -1.03825703e-01,   1.71703941e-01,   4.92290061e-02,\n",
       "          2.48138928e+00,   1.73156342e-01,  -5.39838304e-02,\n",
       "          3.22342105e-02,  -3.97369242e-02,  -6.98962094e-02,\n",
       "         -3.98718475e-02,  -5.32581819e-02,  -4.53447764e-02,\n",
       "         -8.68221802e-02,  -7.26456626e-02,  -7.23370802e-02,\n",
       "          5.71647206e-03,  -2.26235002e-02,   1.65737513e-03,\n",
       "         -5.40961117e-02,  -7.12383728e-02,  -1.53414935e-01,\n",
       "         -1.17905596e-01,  -1.40711187e-01,  -6.03385554e-02,\n",
       "         -1.03998875e-01,   5.20461900e-02,  -7.23413571e-02],\n",
       "       [ -2.07080422e-01,  -2.36339762e-01,  -1.54797208e-01,\n",
       "         -1.43738326e-01,  -1.44907020e-01,  -9.05031039e-02,\n",
       "         -9.14842527e-02,  -1.46584369e-01,  -9.04637971e-02,\n",
       "         -1.74182921e-01,  -1.63251793e-01,  -1.07231918e-01,\n",
       "         -2.67307817e-01,  -1.21111775e-01,  -1.44372010e-01,\n",
       "         -1.26640276e-01,  -7.08842718e-02,  -2.73419731e-02,\n",
       "         -1.44437456e-01,  -1.17697128e-01,  -1.40734952e-01,\n",
       "         -1.58864018e-01,  -1.03515751e-01,  -8.55713192e-02,\n",
       "         -2.07912340e-01,  -1.11532410e-01,  -2.90080264e-02,\n",
       "         -1.70677299e-01,  -2.00191055e-01,  -2.67571989e-01,\n",
       "         -1.64921551e-01,  -1.59010536e-01,  -1.17186995e-01,\n",
       "         -1.38844342e-01,  -1.04136361e-01,  -1.19830348e-01],\n",
       "       [ -9.42584764e-03,   1.33014177e-02,  -9.89517783e-02,\n",
       "         -2.46224535e-02,  -3.86619971e-02,   3.17332685e-01,\n",
       "          6.59163013e-02,  -7.11157026e-02,   7.94599503e-02,\n",
       "         -5.62604001e-03,   5.68371274e-01,   3.98342888e-02,\n",
       "         -6.67680182e-02,   2.22552132e-01,   9.36602428e-02,\n",
       "          4.12618567e-01,   2.05507746e-02,  -2.55947285e-02,\n",
       "          2.66280151e-01,   9.83507659e-02,   8.13405818e-02,\n",
       "          1.99980801e-01,  -2.21203112e-02,  -3.84148761e-02,\n",
       "          4.77140280e-01,   4.35767470e-01,   1.35031388e-02,\n",
       "          3.52538249e-01,   9.36419060e-01,   2.35066977e+00,\n",
       "         -2.46757421e-02,  -6.80306884e-02,   5.97799959e-02,\n",
       "         -1.19220586e-02,   4.74612181e-02,  -2.69884845e-02],\n",
       "       [  2.85376509e-01,   3.49089302e-01,   7.78062652e-03,\n",
       "          1.49121739e-01,   6.72452197e-02,   2.41408782e-01,\n",
       "          1.72222663e-01,   1.28145575e-01,   1.15597869e-01,\n",
       "          6.82536297e-01,   4.33347621e-01,   1.86246021e+00,\n",
       "          3.04765642e-01,   2.96704154e-01,   2.84082164e+00,\n",
       "          5.33697238e-01,   1.27600026e+00,   9.70969231e-01,\n",
       "          1.24902815e+00,   1.07813638e+00,   2.82814030e-01,\n",
       "          1.97669198e-01,   3.26939171e-02,   6.12581020e-02,\n",
       "          2.25912233e+00,   6.83496992e-01,   1.74545994e-01,\n",
       "          5.36167408e-01,   2.53816820e-01,   8.32923115e-01,\n",
       "          1.95132234e-01,   2.71371156e-01,   1.01226601e+00,\n",
       "          3.80882860e-01,   1.65712864e+00,   2.66075821e+00]])"
      ]
     },
     "execution_count": 364,
     "metadata": {},
     "output_type": "execute_result"
    }
   ],
   "source": [
    "## KMeans++ с MiniBatchKMeans\n",
    "minibatch_pp = MiniBatchKMeans(k = 9, random_state=4, init='k-means')\n",
    "minibatch_pp.fit(X)\n",
    "minibatch_pp.centroids"
   ]
  },
  {
   "cell_type": "code",
   "execution_count": null,
   "metadata": {
    "collapsed": true
   },
   "outputs": [],
   "source": [
    "## Вывод"
   ]
  }
 ],
 "metadata": {
  "anaconda-cloud": {},
  "kernelspec": {
   "display_name": "Python 2",
   "language": "python",
   "name": "python2"
  },
  "language_info": {
   "codemirror_mode": {
    "name": "ipython",
    "version": 2
   },
   "file_extension": ".py",
   "mimetype": "text/x-python",
   "name": "python",
   "nbconvert_exporter": "python",
   "pygments_lexer": "ipython2",
   "version": "2.7.13"
  },
  "nav_menu": {},
  "toc": {
   "navigate_menu": true,
   "number_sections": false,
   "sideBar": true,
   "threshold": 6,
   "toc_cell": false,
   "toc_section_display": "block",
   "toc_window_display": true
  }
 },
 "nbformat": 4,
 "nbformat_minor": 2
}
